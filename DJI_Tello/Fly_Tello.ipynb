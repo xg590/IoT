{
 "cells": [
  {
   "cell_type": "code",
   "execution_count": 1,
   "metadata": {},
   "outputs": [
    {
     "name": "stdout",
     "output_type": "stream",
     "text": [
      "Flight Data Record Begins ~\n"
     ]
    }
   ],
   "source": [
    "import time, queue, socket, sqlite3, datetime, threading \n",
    "def flight_logger(): \n",
    "    con = sqlite3.connect(f'{datetime.datetime.fromtimestamp(time.time()).isoformat()}.db')  \n",
    "    cur = con.cursor() \n",
    "    cur.execute('CREATE TABLE commands(timestamp REAL, command TEXT, who TEXT);')\n",
    "    cur.execute('CREATE TABLE   states(timestamp REAL, log     TEXT          );') \n",
    "    print('Flight Data Record Begins ~') \n",
    "    while 1: \n",
    "        sql = surrogate.get()\n",
    "        if sql: \n",
    "            cur.execute(sql) \n",
    "        else:\n",
    "            con.commit()\n",
    "            con.close()  \n",
    "            print('Flight Data Saved ~') \n",
    "            break\n",
    "    print('Flight Data Record Ends ~')\n",
    "\n",
    "surrogate = queue.Queue() # cache flight data \n",
    "thread = threading.Thread(target=flight_logger)\n",
    "thread.daemon = True\n",
    "thread.start()  \n",
    "\n",
    "class Tello_State:\n",
    "    def __init__(self):\n",
    "        self.state  = None \n",
    "        self.socket = socket.socket(socket.AF_INET, socket.SOCK_DGRAM)\n",
    "        local_ip, state_port = '', 8890 \n",
    "        self.socket.bind((local_ip, state_port)) \n",
    "        self.receive_thread  = threading.Thread(target=self.update_state)\n",
    "        self.receive_thread.daemon = True\n",
    "        self.receive_thread.start() \n",
    "    \n",
    "    def update_state(self):\n",
    "        while True: \n",
    "            response, ip = self.socket.recvfrom(1024)    \n",
    "            surrogate.put('''INSERT INTO states(timestamp, log) \n",
    "                                    VALUES({},\"{}\")\n",
    "                                 '''.format(time.time(), response))  \n",
    "            state = response.decode().split(';')\n",
    "            state.pop() \n",
    "            self.state = dict([s.split(':') for s in state]) \n",
    "            \n",
    "state_stat = Tello_State()\n",
    "\n",
    "class Tello_Command:\n",
    "    def __init__(self):\n",
    "        self.socket = socket.socket(socket.AF_INET, socket.SOCK_DGRAM)  \n",
    "        local_ip, receive_port = '', 8889\n",
    "        self.socket.bind((local_ip, receive_port)) \n",
    "        tello_ip, command_port = '192.168.10.1', 8889 \n",
    "        self.tello_address = (tello_ip, command_port) \n",
    "        self.lock = threading.Lock()\n",
    "        self.lock.acquire()\n",
    "        self.OK = False\n",
    "        self.MAX_TIME_OUT = 10\n",
    "        self.Max_RETRY = 3\n",
    "        self.receive_thread = threading.Thread(target=self.receive_response)\n",
    "        self.receive_thread.daemon = True\n",
    "        self.receive_thread.start() \n",
    "        \n",
    "    def send_command(self, command, debug=False): \n",
    "        retry = self.Max_RETRY \n",
    "        while True:   \n",
    "            surrogate.put('''INSERT INTO commands(timestamp, command, who) \n",
    "                                    VALUES({}, \"{}\", \"{}\");\n",
    "                                 '''.format(time.time(), command, \"Station\"))  \n",
    "            if debug: print('[ Station ] \"%s\"' % command) \n",
    "            self.socket.sendto(command.encode('utf-8'), self.tello_address) \n",
    "            retry -= 1\n",
    "            self.lock.acquire(timeout=self.MAX_TIME_OUT) \n",
    "            if self.OK: \n",
    "                surrogate.put('''\n",
    "                    INSERT INTO commands(timestamp, command, who) \n",
    "                    VALUES({}, \"{}\", \"{}\");\n",
    "                    '''.format(time.time(), command, \"Tello\"))  \n",
    "                if debug: print('[  Tello  ] \"%s\" ' % command)\n",
    "                self.OK = False\n",
    "                break\n",
    "            else:\n",
    "                retry -= 1\n",
    "                if retry < 0:\n",
    "                    if debug: print('Retried \"%s\" %d times without a success. Stop to retry' % (command, self.Max_RETRY))\n",
    "                    break\n",
    "                if debug: print('Retry \"%s\"' % command)\n",
    "\n",
    "    def receive_response(self):\n",
    "        while True:\n",
    "            response, ip = self.socket.recvfrom(1024)\n",
    "            if response == b'ok':\n",
    "                self.OK = True\n",
    "                self.lock.release()\n",
    "            elif response == b'error':\n",
    "                self.OK = False\n",
    "                \n",
    "tello_cmd = Tello_Command()\n",
    "tello_cmd.send_command('command') "
   ]
  },
  {
   "cell_type": "code",
   "execution_count": 2,
   "metadata": {},
   "outputs": [
    {
     "name": "stdout",
     "output_type": "stream",
     "text": [
      "2020-08-21T09:45:27.616189\n"
     ]
    },
    {
     "data": {
      "text/plain": [
       "'2020-08-21T09:45:36.337272'"
      ]
     },
     "execution_count": 2,
     "metadata": {},
     "output_type": "execute_result"
    }
   ],
   "source": [
    "print(\"It may take 10 seconds to take off\") \n",
    "tello_cmd.send_command('takeoff') "
   ]
  },
  {
   "cell_type": "code",
   "execution_count": 3,
   "metadata": {},
   "outputs": [
    {
     "name": "stdout",
     "output_type": "stream",
     "text": [
      "[ Station ] \"right 50\"\n",
      "[  Tello  ] \"right 50\" \n"
     ]
    }
   ],
   "source": [
    "tello_cmd.send_command('forward 50')\n",
    "tello_cmd.send_command('left 50'   )\n",
    "tello_cmd.send_command('back 50'   )\n",
    "tello_cmd.send_command('right 50'  , True) "
   ]
  },
  {
   "cell_type": "code",
   "execution_count": 7,
   "metadata": {
    "scrolled": true
   },
   "outputs": [],
   "source": [
    "tello_cmd.send_command('land') "
   ]
  },
  {
   "cell_type": "code",
   "execution_count": 8,
   "metadata": {},
   "outputs": [
    {
     "name": "stdout",
     "output_type": "stream",
     "text": [
      "Flight Data Saved ~\n",
      "Flight Data Record Ends ~\n"
     ]
    }
   ],
   "source": [
    "surrogate.put(\"\") "
   ]
  }
 ],
 "metadata": {
  "kernelspec": {
   "display_name": "Python 3",
   "language": "python",
   "name": "python3"
  },
  "language_info": {
   "codemirror_mode": {
    "name": "ipython",
    "version": 3
   },
   "file_extension": ".py",
   "mimetype": "text/x-python",
   "name": "python",
   "nbconvert_exporter": "python",
   "pygments_lexer": "ipython3",
   "version": "3.8.2"
  }
 },
 "nbformat": 4,
 "nbformat_minor": 2
}
