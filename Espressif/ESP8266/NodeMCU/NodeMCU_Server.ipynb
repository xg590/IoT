{
 "cells": [
  {
   "cell_type": "code",
   "execution_count": null,
   "metadata": {
    "ExecuteTime": {
     "end_time": "2021-01-14T04:04:17.248427Z",
     "start_time": "2021-01-14T03:58:35.324076Z"
    }
   },
   "outputs": [],
   "source": [
    "import socket\n",
    "s = socket.socket(socket.AF_INET, socket.SOCK_STREAM)\n",
    "s.bind(('0.0.0.0', 12345))\n",
    "s.listen(0) \n",
    "while True:\n",
    "    conn, addr = s.accept()\n",
    "    conn.settimeout(5)\n",
    "    fr = conn.makefile()\n",
    "    while True:  \n",
    "        try:\n",
    "            print(fr.readline().strip()) \n",
    "        except socket.timeout:  \n",
    "            conn.shutdown(socket.SHUT_RDWR)  \n",
    "            conn.close()\n",
    "            print('Timeout')\n",
    "            break"
   ]
  }
 ],
 "metadata": {
  "kernelspec": {
   "display_name": "PY3",
   "language": "python",
   "name": "py3"
  },
  "language_info": {
   "codemirror_mode": {
    "name": "ipython",
    "version": 3
   },
   "file_extension": ".py",
   "mimetype": "text/x-python",
   "name": "python",
   "nbconvert_exporter": "python",
   "pygments_lexer": "ipython3",
   "version": "3.8.5"
  }
 },
 "nbformat": 4,
 "nbformat_minor": 4
}
