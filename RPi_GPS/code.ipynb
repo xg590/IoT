{
 "cells": [
  {
   "cell_type": "code",
   "execution_count": 1,
   "metadata": {},
   "outputs": [
    {
     "name": "stdout",
     "output_type": "stream",
     "text": [
      "Collecting PySerial\n",
      "  Using cached https://files.pythonhosted.org/packages/0d/e4/2a744dd9e3be04a0c0907414e2a01a7c88bb3915cbe3c8cc06e209f59c30/pyserial-3.4-py2.py3-none-any.whl\n",
      "Collecting pynmea2\n",
      "  Using cached https://files.pythonhosted.org/packages/88/5f/a3d09471582e710b4871e41b0b7792be836d6396a2630dee4c6ef44830e5/pynmea2-1.15.0-py3-none-any.whl\n",
      "Installing collected packages: PySerial, pynmea2\n",
      "Successfully installed PySerial-3.4 pynmea2-1.15.0\n"
     ]
    }
   ],
   "source": [
    "!pip3 install PySerial pynmea2"
   ]
  },
  {
   "cell_type": "code",
   "execution_count": 2,
   "metadata": {},
   "outputs": [
    {
     "name": "stdout",
     "output_type": "stream",
     "text": [
      "Longitude: 000.00000 (for privacy reason)\n",
      "Latitude:  000.00000\n"
     ]
    }
   ],
   "source": [
    "import serial, pynmea2\n",
    "with serial.Serial(port='/dev/ttyS0', baudrate=9600, timeout=3) as s:\n",
    "    while 1:\n",
    "        data = s.readline()\n",
    "        if data[0:6] == b'$GPGGA': # NMEA data\n",
    "            msg = pynmea2.parse(data.decode()) \n",
    "            lon, lat = msg.lon, msg.lat\n",
    "            print('Longitude:', lon, '\\nLatitude:', lat)\n",
    "            break"
   ]
  }
 ],
 "metadata": {
  "kernelspec": {
   "display_name": "Python 3",
   "language": "python",
   "name": "python3"
  },
  "language_info": {
   "codemirror_mode": {
    "name": "ipython",
    "version": 3
   },
   "file_extension": ".py",
   "mimetype": "text/x-python",
   "name": "python",
   "nbconvert_exporter": "python",
   "pygments_lexer": "ipython3",
   "version": "3.5.3"
  }
 },
 "nbformat": 4,
 "nbformat_minor": 2
}
