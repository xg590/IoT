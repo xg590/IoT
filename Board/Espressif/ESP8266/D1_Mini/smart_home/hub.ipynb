{
 "cells": [
  {
   "cell_type": "code",
   "execution_count": 1,
   "metadata": {
    "ExecuteTime": {
     "end_time": "2021-06-29T13:25:35.777196Z",
     "start_time": "2021-06-29T13:25:35.755097Z"
    }
   },
   "outputs": [],
   "source": [
    "import sqlite3, datetime, time, json, queue, threading, sys, os, asyncio\n",
    "\n",
    "with open('secret.json') as fr: sec = json.load(fr)\n",
    "# sec = {'bulb_ip':\"192.168.x.x\", 'ac_ip':\"192.168.x.x\", 'gateway_ip':\"192.168.x.x\"}"
   ]
  },
  {
   "cell_type": "code",
   "execution_count": 2,
   "metadata": {
    "ExecuteTime": {
     "end_time": "2021-06-29T13:25:35.855465Z",
     "start_time": "2021-06-29T13:25:35.784061Z"
    }
   },
   "outputs": [],
   "source": [
    "def initialize_database(): \n",
    "    con = sqlite3.connect(f'SHT40.{datetime.datetime.fromtimestamp(time.time()).strftime(\"%Y-%m-%dT%H:%M:%S\")}.db')  \n",
    "    cur = con.cursor() \n",
    "    cur.execute('CREATE TABLE IF NOT EXISTS log  (Temperature REAL, Humidity REAL, Photoresistor INTEGER, timestamp REAL);')\n",
    "    con.commit() \n",
    "    con.close() \n",
    "#initialize_database()"
   ]
  },
  {
   "cell_type": "code",
   "execution_count": 3,
   "metadata": {
    "ExecuteTime": {
     "end_time": "2021-06-29T13:25:36.273705Z",
     "start_time": "2021-06-29T13:25:35.863713Z"
    }
   },
   "outputs": [],
   "source": [
    "def database(): \n",
    "    con = sqlite3.connect('SHT40.2021-06-27T18:51:14.db')  \n",
    "    cur = con.cursor() \n",
    "    while True: \n",
    "        opt, foo = q_in.get() # q.get() = opt_foo\n",
    "        bar = False           # opt is a placeholder \n",
    "        try:\n",
    "            if opt == 'insert':\n",
    "                cur.execute('INSERT INTO log VALUES (?, ?, ?, ?);', \n",
    "                            (foo['Temperature (C)'], foo['Humidity (% rH)'], foo['Photoresistor'], time.time(),))  \n",
    "            elif opt == 'sql':\n",
    "                cur.execute(foo['sql'])  \n",
    "                bar = cur.fetchall()\n",
    "            elif opt == 'commit': \n",
    "                con.commit() \n",
    "                bar = 'Database commited'\n",
    "                print('Database commited')\n",
    "            elif opt == 'close': \n",
    "                con.commit()\n",
    "                con.close()\n",
    "                bar = 'Database commited and closed'\n",
    "                print('Database commited and closed')\n",
    "        except Exception as e:\n",
    "            print('sql_exception', e, opt, foo)\n",
    "            pass\n",
    "        q_out.put(bar) \n",
    "        q_out.join()\n",
    "        q_in.task_done()\n",
    "\n",
    "q_in, q_out = queue.Queue(), queue.Queue() \n",
    "threading.Thread(target=database, name='thread-1', daemon=True).start() \n",
    "\n",
    "def database_operator(opt_foo): \n",
    "    q_in.join()        \n",
    "    q_in.put(opt_foo)  \n",
    "    bar = q_out.get()  \n",
    "    q_out.task_done()   \n",
    "    return bar"
   ]
  },
  {
   "cell_type": "code",
   "execution_count": 4,
   "metadata": {
    "ExecuteTime": {
     "end_time": "2021-06-29T13:25:36.399095Z",
     "start_time": "2021-06-29T13:25:36.280880Z"
    }
   },
   "outputs": [],
   "source": [
    "sys.path.append(f\"{os.environ['HOME']}/py3/lib/python3.8/site-packages/\") \n",
    "import kasa \n",
    "\n",
    "class HUB:\n",
    "    def __init__(self):\n",
    "        self.ac     = kasa.SmartPlug(sec['ac_ip'])\n",
    "        self.bulb   = kasa.SmartBulb(sec['bulb_ip']) \n",
    "        self.ac_flag   = False\n",
    "        self.bulb_flag = False\n",
    "        self.bulb_auto = True # Change it to false for manual mode. Why manual mode?\n",
    "                              # I want the light be turned on automatically at dusk but I also need to turn it off at night.\n",
    "        threading.Thread(target=self.updater).start() \n",
    "            \n",
    "    def updater(self):\n",
    "        while 1:\n",
    "            asyncio.run(self.bulb.update()) \n",
    "            asyncio.run(self.ac.update())\n",
    "            if self.bulb.is_on:\n",
    "                self.bulb_flag = True\n",
    "            else:   \n",
    "                self.bulb_flag = False \n",
    "            if self.ac.is_on: \n",
    "                self.ac_flag = True\n",
    "            else:  \n",
    "                self.ac_flag = False\n",
    "            time.sleep(180)\n",
    "hub = HUB()"
   ]
  },
  {
   "cell_type": "code",
   "execution_count": null,
   "metadata": {
    "ExecuteTime": {
     "start_time": "2021-06-29T13:25:35.744Z"
    }
   },
   "outputs": [
    {
     "name": "stdout",
     "output_type": "stream",
     "text": [
      " * Serving Flask app \"__main__\" (lazy loading)\n",
      " * Environment: production\n",
      "\u001b[31m   WARNING: This is a development server. Do not use it in a production deployment.\u001b[0m\n",
      "\u001b[2m   Use a production WSGI server instead.\u001b[0m\n",
      " * Debug mode: off\n"
     ]
    }
   ],
   "source": [
    "import flask\n",
    "app = flask.Flask(__name__) \n",
    "\n",
    "import logging\n",
    "log = logging.getLogger('werkzeug')\n",
    "log.setLevel(logging.ERROR)\n",
    "\n",
    "temp_ceil  = 26.5\n",
    "temp_floor = 25.5\n",
    "lumi_ceil  = 350\n",
    "lumi_floor = 200\n",
    "\n",
    "@app.route(\"/\", methods=['GET'])\n",
    "def index(): \n",
    "    return 'Hello~' \n",
    "\n",
    "@app.route(\"/bulb_auto\", methods=['GET', 'POST'])\n",
    "def bulb_auto():\n",
    "    req = flask.request\n",
    "    if req.method == 'GET':\n",
    "        return {'status':hub.bulb_auto}\n",
    "    elif req.method == 'POST': \n",
    "        hub.bulb_auto = flask.request.json['status']\n",
    "        return {'status':hub.bulb_auto}\n",
    "    \n",
    "@app.route(\"/log\", methods=['POST'])\n",
    "def log():\n",
    "    T = flask.request.json['Temperature (C)']\n",
    "    P = flask.request.json['Photoresistor']\n",
    "    \n",
    "    if T > temp_ceil and hub.ac_flag == False: \n",
    "        asyncio.run(hub.ac.turn_on()) \n",
    "        hub.ac_flag = True\n",
    "    elif T < temp_floor and hub.ac_flag == True:\n",
    "        asyncio.run(hub.ac.turn_off()) \n",
    "        hub.ac_flag = False\n",
    "        \n",
    "    if P > lumi_ceil and hub.bulb_flag == True: \n",
    "        asyncio.run(hub.bulb.turn_off())  \n",
    "        hub.bulb_flag = False\n",
    "    elif hub.bulb_auto == True and P < lumi_floor and hub.bulb_flag == False:\n",
    "        asyncio.run(hub.bulb.turn_on())     \n",
    "        hub.bulb_flag = True     \n",
    "        \n",
    "    database_operator(('insert', flask.request.json)) \n",
    "    return '' \n",
    "\n",
    "@app.route(\"/sql\", methods=['POST'])\n",
    "def sql():  \n",
    "    return {'result':database_operator(('sql', flask.request.json)).__repr__() }\n",
    "\n",
    "@app.route('/heartbeat', methods=['GET']) \n",
    "def heartbeat():\n",
    "    database_operator(('commit', None))  \n",
    "    return 'Cheers!'\n",
    "\n",
    "app.run(sec['gateway_ip'],'4433') \n",
    "# database_operator(('sql', {'sql':'select * from log'})) "
   ]
  },
  {
   "cell_type": "code",
   "execution_count": null,
   "metadata": {
    "ExecuteTime": {
     "start_time": "2021-06-29T13:25:35.746Z"
    }
   },
   "outputs": [],
   "source": [
    "database_operator(('commit', ''))"
   ]
  },
  {
   "cell_type": "code",
   "execution_count": null,
   "metadata": {},
   "outputs": [],
   "source": []
  }
 ],
 "metadata": {
  "kernelspec": {
   "display_name": "PY3",
   "language": "python",
   "name": "py3"
  },
  "language_info": {
   "codemirror_mode": {
    "name": "ipython",
    "version": 3
   },
   "file_extension": ".py",
   "mimetype": "text/x-python",
   "name": "python",
   "nbconvert_exporter": "python",
   "pygments_lexer": "ipython3",
   "version": "3.8.5"
  }
 },
 "nbformat": 4,
 "nbformat_minor": 4
}
