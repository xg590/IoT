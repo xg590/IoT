{
 "cells": [
  {
   "cell_type": "code",
   "execution_count": null,
   "id": "2ecb3065",
   "metadata": {
    "ExecuteTime": {
     "end_time": "2022-10-02T20:32:45.779683Z",
     "start_time": "2022-10-02T20:32:45.760788Z"
    }
   },
   "outputs": [],
   "source": [
    "import sys\n",
    "sys.path.append(\"/var/www/html/project/pyWebREPL/\")\n",
    "from pyWebREPL import WEBREPL\n",
    "esp8266_ip = \"192.168.xxx.xxx\""
   ]
  },
  {
   "cell_type": "code",
   "execution_count": null,
   "id": "68a2e878",
   "metadata": {
    "ExecuteTime": {
     "end_time": "2022-10-02T20:35:53.515170Z",
     "start_time": "2022-10-02T20:35:52.783625Z"
    }
   },
   "outputs": [],
   "source": [
    "webrepl = WEBREPL(host=esp8266_ip, password='123456') \n",
    "webrepl.send('''fw=open('main.py','w')\n",
    "fw.write('import time\\\\r')\n",
    "fw.write('from machine import Pin, PWM\\\\r')\n",
    "fw.write('PIN_Servo = 5\\\\r')\n",
    "fw.write('pwm0 = PWM(Pin(PIN_Servo))\\\\r')\n",
    "fw.write('pwm0.freq(50)\\\\r')\n",
    "fw.flush() \n",
    "fw.close() \n",
    "print(open('main.py').read())\n",
    "''')\n",
    "print(webrepl.recv()) \n",
    "webrepl.close()"
   ]
  },
  {
   "cell_type": "code",
   "execution_count": null,
   "id": "04d92219",
   "metadata": {
    "ExecuteTime": {
     "end_time": "2022-10-02T20:30:04.772107Z",
     "start_time": "2022-10-02T20:30:03.404430Z"
    }
   },
   "outputs": [],
   "source": [
    "webrepl = WEBREPL(host=esp8266_ip, password='123456') \n",
    "webrepl.send('''   \n",
    "pwm0.duty(91) # off         \n",
    "time.sleep(0.5)\n",
    "pwm0.deinit()    \n",
    "''')\n",
    "print(webrepl.recv()) \n",
    "webrepl.close()"
   ]
  },
  {
   "cell_type": "code",
   "execution_count": null,
   "id": "cc86bb9a",
   "metadata": {
    "ExecuteTime": {
     "end_time": "2022-10-02T20:36:32.791171Z",
     "start_time": "2022-10-02T20:36:31.315771Z"
    }
   },
   "outputs": [],
   "source": [
    "webrepl = WEBREPL(host=esp8266_ip, password='123456') \n",
    "webrepl.send('''   \n",
    "pwm0.duty(70) # on     \n",
    "time.sleep(0.5)\n",
    "pwm0.deinit()    \n",
    "''')\n",
    "print(webrepl.recv()) \n",
    "webrepl.close()"
   ]
  },
  {
   "cell_type": "code",
   "execution_count": null,
   "id": "e1b7169b",
   "metadata": {},
   "outputs": [],
   "source": []
  }
 ],
 "metadata": {
  "kernelspec": {
   "display_name": "Python 3 (ipykernel)",
   "language": "python",
   "name": "python3"
  },
  "language_info": {
   "codemirror_mode": {
    "name": "ipython",
    "version": 3
   },
   "file_extension": ".py",
   "mimetype": "text/x-python",
   "name": "python",
   "nbconvert_exporter": "python",
   "pygments_lexer": "ipython3",
   "version": "3.9.2"
  }
 },
 "nbformat": 4,
 "nbformat_minor": 5
}
