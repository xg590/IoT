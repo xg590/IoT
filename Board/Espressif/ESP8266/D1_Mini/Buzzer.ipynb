{
 "cells": [
  {
   "cell_type": "code",
   "execution_count": 1,
   "id": "2ecb3065",
   "metadata": {
    "ExecuteTime": {
     "end_time": "2022-10-05T02:07:42.245692Z",
     "start_time": "2022-10-05T02:07:42.224220Z"
    }
   },
   "outputs": [],
   "source": [
    "import sys\n",
    "sys.path.append(\"/var/www/html/project/pyWebREPL/\")\n",
    "from pyWebREPL import WEBREPL\n",
    "esp8266_ip = \"192.168.3.157\""
   ]
  },
  {
   "cell_type": "code",
   "execution_count": 2,
   "id": "7048cbfd",
   "metadata": {
    "ExecuteTime": {
     "end_time": "2022-10-05T02:07:42.967323Z",
     "start_time": "2022-10-05T02:07:42.252104Z"
    }
   },
   "outputs": [
    {
     "name": "stdout",
     "output_type": "stream",
     "text": [
      "\n",
      "WebREPL connected\n",
      ">>> \n",
      "6\n",
      "paste mode; Ctrl-C to cancel, Ctrl-D to finish\n",
      "=== from machine import Pin, PWM\n",
      "=== import time\n",
      "=== tones={'c':262,'d':294,'e':330,'f':349,'g':392,'a':440,'b':494,'C':523,' ':0} \n",
      "=== beeper = PWM(Pin(15))\n",
      "=== # Twinkle Twinkle Little Star\n",
      "=== TTLS = 'ccggaag ffeeddc ggffeed ggffeed ccggaag ffeeddc'\n",
      "=== \n",
      ">>> \n"
     ]
    }
   ],
   "source": [
    "webrepl = WEBREPL(host=esp8266_ip, password='123456') \n",
    "webrepl.send('''   \n",
    "from machine import Pin, PWM\n",
    "import time\n",
    "tones={'c':262,'d':294,'e':330,'f':349,'g':392,'a':440,'b':494,'C':523,' ':0} \n",
    "beeper = PWM(Pin(15))\n",
    "# Twinkle Twinkle Little Star\n",
    "TTLS = 'ccggaag ffeeddc ggffeed ggffeed ccggaag ffeeddc' \n",
    "''')\n",
    "print(webrepl.recv()) \n",
    "webrepl.close()"
   ]
  },
  {
   "cell_type": "code",
   "execution_count": 3,
   "id": "cc86bb9a",
   "metadata": {
    "ExecuteTime": {
     "end_time": "2022-10-05T02:07:54.322528Z",
     "start_time": "2022-10-05T02:07:42.973204Z"
    }
   },
   "outputs": [
    {
     "name": "stdout",
     "output_type": "stream",
     "text": [
      "\n",
      "WebREPL connected\n",
      ">>> \n",
      "6\n",
      "paste mode; Ctrl-C to cancel, Ctrl-D to finish\n",
      "=== for tone in TTLS:\n",
      "===     if tone==' ':\n",
      "===         beeper.duty(0) \n",
      "===     else:\n",
      "===         beeper.freq(tones[tone])\n",
      "===         # duty 0~1023, larger, louder\n",
      "===         beeper.duty(123)\n",
      "===     time.sleep(0.2)\n",
      "===     beeper.duty(0)\n",
      "===     time.sleep(0.03)\n",
      "=== beeper.deinit()\n",
      "=== \n",
      ">>> \n"
     ]
    }
   ],
   "source": [
    "webrepl = WEBREPL(host=esp8266_ip, password='123456') \n",
    "webrepl.send('''     \n",
    "for tone in TTLS:\n",
    "    if tone==' ':\n",
    "        beeper.duty(0) \n",
    "    else:\n",
    "        beeper.freq(tones[tone])\n",
    "        # duty 0~1023, larger, louder\n",
    "        beeper.duty(123)\n",
    "    time.sleep(0.2)\n",
    "    beeper.duty(0)\n",
    "    time.sleep(0.03)\n",
    "beeper.deinit()\n",
    "''')\n",
    "print(webrepl.recv())  \n",
    "webrepl.close()"
   ]
  }
 ],
 "metadata": {
  "kernelspec": {
   "display_name": "Python 3 (ipykernel)",
   "language": "python",
   "name": "python3"
  },
  "language_info": {
   "codemirror_mode": {
    "name": "ipython",
    "version": 3
   },
   "file_extension": ".py",
   "mimetype": "text/x-python",
   "name": "python",
   "nbconvert_exporter": "python",
   "pygments_lexer": "ipython3",
   "version": "3.9.2"
  }
 },
 "nbformat": 4,
 "nbformat_minor": 5
}
