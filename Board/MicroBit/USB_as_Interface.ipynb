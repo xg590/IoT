{
 "cells": [
  {
   "cell_type": "code",
   "execution_count": 1,
   "metadata": {},
   "outputs": [
    {
     "data": {
      "text/plain": [
       "'26\\r\\n\\x04'"
      ]
     },
     "execution_count": 1,
     "metadata": {},
     "output_type": "execute_result"
    }
   ],
   "source": [
    "import time\n",
    "import re\n",
    "\n",
    "class REPLException(Exception):\n",
    "    def __init__(self, msg=None):\n",
    "        Exception.__init__(self, msg)\n",
    "\n",
    "class REPL(): \n",
    "    def wait_prompt(self):\n",
    "        try: \n",
    "            self.receive(\".*>>> \", timeout=2, idle_timeout=1)\n",
    "        except REPLException as e: \n",
    "            pass \n",
    "        \n",
    "    def __init__(self, ser):\n",
    "        self.ser = ser  \n",
    "        self.wait_prompt() \n",
    "        self.ser.write(b'\\x03\\x02') \n",
    "        self.wait_prompt()  \n",
    "        self.ser.write(b'\\x01')\n",
    "        self.receive(\"\\r\\nraw REPL; CTRL-B to exit\\r\\n>\", timeout=2)\n",
    "\n",
    "    def receive(self, wanted=None, min_length=None, max_length=None, timeout=None, idle_timeout=None): \n",
    "        matcher = re.compile(wanted, re.DOTALL) \n",
    "        now = time.time()\n",
    "        if timeout is not None:           timeout_at = now + timeout\n",
    "        else:                             timeout_at = None\n",
    "\n",
    "        if idle_timeout is not None: idle_timeout_at = now + idle_timeout\n",
    "        else:                        idle_timeout_at = None\n",
    "\n",
    "        buffer = \"\"\n",
    "        while True:\n",
    "            now = time.time()\n",
    "            ch = self.ser.read(1).decode()\n",
    "            if len(ch) ==0: ch =None\n",
    "            if ch is not None:\n",
    "                buffer += ch\n",
    "                if idle_timeout is not None: idle_timeout_at = now + idle_timeout\n",
    "\n",
    "                if matcher is not None and idle_timeout is None and matcher.match(buffer):\n",
    "                    if min_length is None:          return buffer  \n",
    "                    elif len(buffer) >= min_length: return buffer\n",
    "                    \n",
    "            if idle_timeout_at is not None and now >= idle_timeout_at:\n",
    "                if matcher.match(buffer): return buffer  \n",
    "                else: raise REPLException(\"Did not match at end of idle timeout [%s]\" % buffer)\n",
    "\n",
    "import serial\n",
    "class MicroBit(): \n",
    "    def __init__(self):\n",
    "        s = serial.Serial(port     = '/dev/ttyACM1', # Change it to 'COM?' in Windows, COM? can be found in Device Manager (Ports)\n",
    "                          baudrate = 115200, \n",
    "                          parity   = serial.PARITY_NONE, \n",
    "                          stopbits = serial.STOPBITS_ONE, \n",
    "                          timeout  = 0)\n",
    "        self.repl = REPL(s) \n",
    "        \n",
    "    def send_command(self, cmd):\n",
    "        self.repl.ser.write(cmd.encode()+b'\\x04')  \n",
    "        self.repl.receive(\"OK\", timeout=1, min_length=2)\n",
    "        output_text = self.repl.receive(\".*\\x04\")\n",
    "        self.repl.receive(\".*\\x04>\", timeout=1)  \n",
    "        return output_text\n",
    "        \n",
    "microbit = MicroBit()\n",
    "microbit.send_command(\"print(temperature())\")"
   ]
  },
  {
   "cell_type": "raw",
   "metadata": {},
   "source": [
    "https://microbit-micropython.readthedocs.io/en/latest/compass.html  "
   ]
  },
  {
   "cell_type": "raw",
   "metadata": {},
   "source": [
    "microbit.send_command(\"compass.calibrate()\")\n",
    "microbit.send_command(\"print(compass.heading())\")"
   ]
  }
 ],
 "metadata": {
  "kernelspec": {
   "display_name": "Python 3",
   "language": "python",
   "name": "python3"
  },
  "language_info": {
   "codemirror_mode": {
    "name": "ipython",
    "version": 3
   },
   "file_extension": ".py",
   "mimetype": "text/x-python",
   "name": "python",
   "nbconvert_exporter": "python",
   "pygments_lexer": "ipython3",
   "version": "3.6.8"
  }
 },
 "nbformat": 4,
 "nbformat_minor": 2
}
