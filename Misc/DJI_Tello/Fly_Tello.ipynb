{
 "cells": [
  {
   "cell_type": "code",
   "execution_count": 1,
   "metadata": {
    "ExecuteTime": {
     "end_time": "2020-10-18T09:24:57.811417Z",
     "start_time": "2020-10-18T09:24:57.777400Z"
    },
    "code_folding": [
     17,
     20
    ]
   },
   "outputs": [
    {
     "name": "stdout",
     "output_type": "stream",
     "text": [
      "Flight Data Recording Begins ~\n"
     ]
    }
   ],
   "source": [
    "import time, queue, socket, sqlite3, datetime, threading  \n",
    "\n",
    "class Tello:\n",
    "    def __init__(self):\n",
    "        self.socket = socket.socket(socket.AF_INET, socket.SOCK_DGRAM) \n",
    "        self.socket.bind(('', 8889))   \n",
    "        self.db_queue  = queue.Queue() # cache flight data\n",
    "        self.cmd_queue = queue.Queue() \n",
    "        self.cmd_event = threading.Event() \n",
    "        self.MAX_TIME_OUT = 15         # It must be longer than 10 sec, give time to \"take off\" command.   \n",
    "        self.MAX_RETRY = 2\n",
    "        self.state = {}\n",
    "        threading.Thread(target=self.flight_logger, daemon=True).start() \n",
    "        threading.Thread(target=self.receiver     , daemon=True).start()\n",
    "        threading.Thread(target=self.sender       , daemon=True).start()   \n",
    "        threading.Thread(target=self.update_state , daemon=True).start()   \n",
    "    \n",
    "    def command(self, cmd):\n",
    "        self.cmd_queue.put(cmd)  \n",
    "     \n",
    "    def flight_logger(self):\n",
    "        con = sqlite3.connect(f'Tello_flight_log_{datetime.datetime.fromtimestamp(time.time()).strftime(\"%Y%m%d_%H%M%S\")}.db')  \n",
    "        cur = con.cursor() \n",
    "        cur.execute('CREATE TABLE commands(timestamp REAL, command TEXT, who TEXT);')\n",
    "        cur.execute('CREATE TABLE   states(timestamp REAL, log     TEXT          );') \n",
    "        print('Flight Data Recording Begins ~') \n",
    "        while 1: \n",
    "            operation = self.db_queue.get() \n",
    "            if   operation == 'commit': \n",
    "                con.commit()\n",
    "                print('Flight Data Saved ~') \n",
    "            elif operation == 'close': \n",
    "                con.close()  \n",
    "                print('Flight Data Recording Ends ~') \n",
    "                break\n",
    "            else: \n",
    "                cur.execute(operation) \n",
    "         \n",
    "    def receiver(self):  \n",
    "        while True: \n",
    "            bytes_, address = self.socket.recvfrom(1024)  \n",
    "            if bytes_ == b'ok':  \n",
    "                self.cmd_event.set() # one command has been successfully executed. Begin new execution.  \n",
    "            else:\n",
    "                print('[ Station ]:', bytes_)\n",
    "            try:\n",
    "                self.db_queue.put('INSERT INTO commands(timestamp, command, who) VALUES({}, \"{}\", \"{}\");'.format(time.time(), bytes_.decode(), \"Tello\")) \n",
    "            except UnicodeDecodeError as e:\n",
    "                print('Decoding Error that could be ignored~')\n",
    "    \n",
    "    def sender(self, debug=True): \n",
    "        tello_address = ('192.168.10.1', 8889)\n",
    "        self.cmd_event.set()        # allow the first wait to proceed \n",
    "        while True:\n",
    "            self.cmd_event.wait()   # block second get until an event is set from receiver or failure set\n",
    "            self.cmd_event.clear()  # block a timeout-enabled waiting\n",
    "            cmd = self.cmd_queue.get()   \n",
    "            self.db_queue.put(f'INSERT INTO commands(timestamp, command, who) VALUES({time.time()}, \"{cmd}\", \"Station\");')  \n",
    "            self.socket.sendto(cmd.encode('utf-8'), tello_address)\n",
    "            cmd_ok = False\n",
    "            for i in range(self.MAX_RETRY): \n",
    "                if self.cmd_event.wait(timeout=self.MAX_TIME_OUT): \n",
    "                    cmd_ok = True\n",
    "                    break\n",
    "                else:\n",
    "                    if debug: print(f'Failed command: \"{cmd}\", Failure sequence: {i+1}.')\n",
    "                    self.socket.sendto(cmd.encode('utf-8'), tello_address) \n",
    "            if cmd_ok: \n",
    "                print(f'Success with \"{cmd}\".') \n",
    "                if cmd == 'land':\n",
    "                    self.db_queue.put('commit')\n",
    "                    self.db_queue.put('close') \n",
    "            else:\n",
    "                self.cmd_event.set() # The failure set\n",
    "                if debug: print(f'Stop retry: \"{cmd}\", Maximum re-tries: {self.MAX_RETRY}.')\n",
    "            \n",
    "              \n",
    "    def update_state(self):\n",
    "        UDP = socket.socket(socket.AF_INET, socket.SOCK_DGRAM) \n",
    "        UDP.bind(('', 8890))  \n",
    "        while True: \n",
    "            bytes_, address = UDP.recvfrom(1024)\n",
    "            str_ = bytes_.decode() \n",
    "            self.db_queue.put('INSERT INTO states(timestamp, log) VALUES({},\"{}\");'.format(time.time(), str_))  \n",
    "            state = str_.split(';')\n",
    "            state.pop() \n",
    "            self.state.update(dict([s.split(':') for s in state]))\n",
    "            \n",
    "tello = Tello() "
   ]
  },
  {
   "cell_type": "code",
   "execution_count": 2,
   "metadata": {
    "ExecuteTime": {
     "end_time": "2020-10-18T09:24:57.852602Z",
     "start_time": "2020-10-18T09:24:57.815604Z"
    }
   },
   "outputs": [],
   "source": [
    "tello.command('command')"
   ]
  },
  {
   "cell_type": "code",
   "execution_count": 3,
   "metadata": {
    "ExecuteTime": {
     "end_time": "2020-10-18T09:24:57.902247Z",
     "start_time": "2020-10-18T09:24:57.859161Z"
    }
   },
   "outputs": [
    {
     "name": "stdout",
     "output_type": "stream",
     "text": [
      "Success with \"command\".\n",
      "It may take 10 seconds to take off.\n"
     ]
    }
   ],
   "source": [
    "print(\"It may take 10 seconds to take off.\") \n",
    "tello.command('takeoff') "
   ]
  },
  {
   "cell_type": "code",
   "execution_count": 4,
   "metadata": {
    "ExecuteTime": {
     "end_time": "2020-10-18T09:24:57.927900Z",
     "start_time": "2020-10-18T09:24:57.913345Z"
    }
   },
   "outputs": [],
   "source": [
    "tello.command('forward 50')\n",
    "tello.command('left 50'   )\n",
    "tello.command('back 50'   )\n",
    "tello.command('right 50'  ) "
   ]
  },
  {
   "cell_type": "code",
   "execution_count": 5,
   "metadata": {
    "ExecuteTime": {
     "end_time": "2020-10-18T09:24:57.946727Z",
     "start_time": "2020-10-18T09:24:57.931286Z"
    }
   },
   "outputs": [
    {
     "name": "stdout",
     "output_type": "stream",
     "text": [
      "Success with \"takeoff\".\n",
      "Success with \"forward 50\".\n",
      "Success with \"left 50\".\n",
      "Success with \"back 50\".\n",
      "Success with \"right 50\".\n",
      "Success with \"land\".\n",
      "Flight Data Saved ~\n",
      "Flight Data Recording Ends ~\n"
     ]
    }
   ],
   "source": [
    "tello.command('land') "
   ]
  }
 ],
 "metadata": {
  "kernelspec": {
   "display_name": "Python 3",
   "language": "python",
   "name": "python3"
  },
  "language_info": {
   "codemirror_mode": {
    "name": "ipython",
    "version": 3
   },
   "file_extension": ".py",
   "mimetype": "text/x-python",
   "name": "python",
   "nbconvert_exporter": "python",
   "pygments_lexer": "ipython3",
   "version": "3.8.2"
  }
 },
 "nbformat": 4,
 "nbformat_minor": 2
}
