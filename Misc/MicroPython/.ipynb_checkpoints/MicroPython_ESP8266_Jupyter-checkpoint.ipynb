{
 "cells": [
  {
   "cell_type": "code",
   "execution_count": null,
   "metadata": {
    "ExecuteTime": {
     "end_time": "2021-07-29T23:22:34.094044Z",
     "start_time": "2021-07-29T23:22:32.966570Z"
    }
   },
   "outputs": [],
   "source": [
    "%sendtofile main.py\n",
    " \n",
    "def test_oled():\n",
    "    oled.fill(0)\n",
    "    oled.text('ABCDEFGH',  0,  0, 1) \n",
    "    oled.text('VO    ID',  0,  10, 1) \n",
    "    oled.text('12345678',  0,  20, 1) \n",
    "    oled.text('Disappear',  0,  30, 1) \n",
    "    oled.text('abcdefgh',  0,  40, 1)  \n",
    "    oled.show()   \n",
    "    \n",
    "def do_connect():\n",
    "    import network\n",
    "    sta_if = network.WLAN(network.STA_IF)\n",
    "    if sta_if.isconnected():\n",
    "        print('Already connected')\n",
    "        pass\n",
    "    else:\n",
    "        sta_if.active(True)\n",
    "        print('connecting to network...')\n",
    "        sta_if.connect('xxxxx', 'xxxxx')\n",
    "        while not sta_if.isconnected():\n",
    "            pass\n",
    "    print('network config:', sta_if.ifconfig())\n",
    "\n",
    "def welcome():\n",
    "    oled.fill(0) \n",
    "    oled.text('Welcome~',  0,  20, 1)  \n",
    "    oled.show()    \n",
    "        \n",
    "import ssd1306, socket\n",
    "from machine import Pin, I2C, enable_irq, disable_irq\n",
    "from time import sleep\n",
    "   \n",
    "OLED_SDA_PIN = 4\n",
    "OLED_SCL_PIN = 5 \n",
    "i2c = I2C(scl=Pin(OLED_SCL_PIN), sda=Pin( OLED_SDA_PIN)) \n",
    "# https://docs.micropython.org/en/latest/esp8266/tutorial/ssd1306.html\n",
    "oled = ssd1306.SSD1306_I2C(64, 48, i2c)   \n",
    "\n",
    "test_oled()\n",
    "do_connect()\n",
    "welcome() \n",
    "\n",
    "Left_Blue_Pin     = 15  # D8\n",
    "#Right_Red_Pin    =       RST     \n",
    "Right_Green_Pin   =  2  # D4    \n",
    "Right_Yellow_Pin  =  0  # D3     \n",
    "\n",
    "\n",
    "Pin(Left_Blue_Pin, Pin.IN).irq(trigger=Pin.IRQ_RISING, handler=\\\n",
    "                               lambda pin: remote.set_pin(Left_Blue_Pin) )    \n",
    "Pin(Right_Yellow_Pin, Pin.IN).irq(trigger=Pin.IRQ_FALLING, handler=\\\n",
    "                                  lambda pin: remote.set_pin(Right_Yellow_Pin) )  \n",
    "Pin(Right_Green_Pin, Pin.IN).irq(trigger=Pin.IRQ_FALLING, handler=\\\n",
    "                                  lambda pin: remote.set_pin(Right_Green_Pin) )  \n",
    "\n",
    "class REMOTE():\n",
    "    count = 0\n",
    "    pin_pressed = None\n",
    "    def set_pin(self, i):\n",
    "        self.pin_pressed = i\n",
    "        \n",
    "remote = REMOTE()\n",
    "\n",
    "def http_get(url):\n",
    "    _, _, host, path = url.split('/', 3)\n",
    "    s = socket.socket()\n",
    "    s.connect((host, 80))\n",
    "    req = \\\n",
    "    '''GET /{} HTTP/1.0\\r\\nHost: foo\\r\\n\\r\\nbar'''.format(path).encode()\n",
    "    s.send(req) \n",
    "    s.close() \n",
    "\n",
    "while 1:\n",
    "    if not isinstance(remote.pin_pressed, int): \n",
    "        sleep(1)\n",
    "        continue \n",
    "    remote.count += 1\n",
    "    if remote.pin_pressed == Left_Blue_Pin:\n",
    "        http_get('http://192.168.x.xxx/lb110') \n",
    "        oled.fill(0)  \n",
    "        #         '12345678' \n",
    "        oled.text(str(remote.count),  0, 0, 1)  \n",
    "        oled.text('Bedroom',  0,  10, 1)    \n",
    "        oled.text(' Light ',  0,  20, 1)        \n",
    "        oled.show() \n",
    "    elif remote.pin_pressed == Right_Yellow_Pin:\n",
    "        http_get('http://192.168.x.xxx/ac')  \n",
    "        oled.fill(0) \n",
    "        oled.text(str(remote.count),  0, 0, 1)  \n",
    "        #         '12345678'  \n",
    "        oled.text('   AC   ',  0,  20, 1)      \n",
    "        oled.show() \n",
    "    elif remote.pin_pressed == Right_Green_Pin:\n",
    "        http_get('http://192.168.x.xxx/kvm')  \n",
    "        oled.fill(0) \n",
    "        oled.text(str(remote.count),  0, 0, 1)  \n",
    "        #         '12345678'  \n",
    "        oled.text('  KVM   ',  0,  20, 1)      \n",
    "        oled.show() \n",
    "         \n",
    "    sleep(3) \n",
    "    oled.fill(0)  \n",
    "    oled.text(str(remote.count),  0, 0, 1) \n",
    "    #         '12345678'  \n",
    "    oled.text('Welcome',  0,  20, 1)       \n",
    "    oled.show()      \n",
    "    remote.pin_pressed = None  "
   ]
  },
  {
   "cell_type": "code",
   "execution_count": null,
   "metadata": {
    "ExecuteTime": {
     "end_time": "2021-07-29T23:21:10.620170Z",
     "start_time": "2021-07-29T23:21:08.058035Z"
    }
   },
   "outputs": [],
   "source": [
    "import os\n",
    "try:\n",
    "    os.remove('main.py')\n",
    "except OSError:\n",
    "    print('removed already')"
   ]
  },
  {
   "cell_type": "code",
   "execution_count": null,
   "metadata": {
    "ExecuteTime": {
     "end_time": "2021-07-29T23:21:31.310911Z",
     "start_time": "2021-07-29T23:21:31.309747Z"
    }
   },
   "outputs": [],
   "source": [
    "%disconnect"
   ]
  },
  {
   "cell_type": "code",
   "execution_count": null,
   "metadata": {
    "ExecuteTime": {
     "end_time": "2021-07-29T23:22:24.667797Z",
     "start_time": "2021-07-29T23:22:24.256508Z"
    }
   },
   "outputs": [],
   "source": [
    "%serialconnect --port=/dev/ttyUSB1 --baud=115200"
   ]
  },
  {
   "cell_type": "code",
   "execution_count": null,
   "metadata": {
    "ExecuteTime": {
     "end_time": "2021-07-28T22:04:32.313780Z",
     "start_time": "2021-07-28T22:04:32.185779Z"
    }
   },
   "outputs": [],
   "source": [
    "%fetchfile --print boot.py"
   ]
  },
  {
   "cell_type": "code",
   "execution_count": null,
   "metadata": {
    "ExecuteTime": {
     "end_time": "2021-07-29T10:36:50.443687Z",
     "start_time": "2021-07-29T10:36:50.418621Z"
    }
   },
   "outputs": [],
   "source": [
    "%lsmagic"
   ]
  }
 ],
 "metadata": {
  "kernelspec": {
   "display_name": "MicroPython - USB",
   "language": "micropython",
   "name": "micropython"
  },
  "language_info": {
   "codemirror_mode": "python",
   "file_extension": ".py",
   "mimetype": "text/python",
   "name": "micropython"
  }
 },
 "nbformat": 4,
 "nbformat_minor": 2
}
