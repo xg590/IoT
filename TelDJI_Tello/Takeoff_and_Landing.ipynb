{
 "cells": [
  {
   "cell_type": "code",
   "execution_count": 1,
   "metadata": {},
   "outputs": [],
   "source": [
    "import socket\n",
    "import threading\n",
    "import time \n",
    "from datetime import datetime \n",
    "class Tello:\n",
    "    def __init__(self):\n",
    "        local_addr = ('', 8889)\n",
    "        self.tello_addr = ('192.168.10.1', 8889) \n",
    "        self.responded = False\n",
    "        self.log = []\n",
    "        self.MAX_TIME_OUT = 15.0\n",
    "        \n",
    "        self.socket = socket.socket(socket.AF_INET, socket.SOCK_DGRAM)  # socket for sending cmd\n",
    "        self.socket.bind(local_addr)\n",
    "        # background thread for receiving cmd ack\n",
    "        self.receive_thread = threading.Thread(target=self.receiver)\n",
    "        self.receive_thread.daemon = True\n",
    "        self.receive_thread.start()\n",
    "\n",
    "    def receiver(self): \n",
    "        while True:\n",
    "            try:\n",
    "                response, ip = self.socket.recvfrom(1024)  \n",
    "                self.responded = True\n",
    "                self.log.append( (datetime.now().isoformat(), response) ) \n",
    "            except socket.error as exc:\n",
    "                self.log.append( (datetime.now().isoformat(), f\"Caught exception socket.error : {exc}\") )  \n",
    " \n",
    "    def send_command(self, command):\n",
    "        \"\"\"\n",
    "        Send a command to tello and do the while loop until background thread changes the state of self.responded, \n",
    "        which means a cmd ack is received. Will be blocked until \n",
    "        \"\"\" \n",
    "\n",
    "        self.log.append( (datetime.now().isoformat(), f'Sending command: {command} to {self.tello_addr}') )   \n",
    "        self.socket.sendto(command.encode('utf-8'), self.tello_addr)\n",
    "\n",
    "        start = time.time()\n",
    "        while not self.responded: \n",
    "            if time.time() - start > self.MAX_TIME_OUT:\n",
    "                self.log.append( (datetime.now().isoformat(), f'Max timeout exceeded... command {command}') )  \n",
    "                return\n",
    "        self.log.append( (datetime.now().isoformat(), f'Command {command} executed successfully!') )\n",
    "        print(datetime.now().isoformat() + f': Command {command} executed successfully!')"
   ]
  },
  {
   "cell_type": "code",
   "execution_count": 2,
   "metadata": {},
   "outputs": [
    {
     "name": "stdout",
     "output_type": "stream",
     "text": [
      "2019-08-15T02:28:08.754791: Command command executed successfully!\n",
      "2019-08-15T02:28:08.755531: Command takeoff executed successfully!\n",
      "2019-08-15T02:28:11.760074: Command land executed successfully!\n"
     ]
    }
   ],
   "source": [
    "tello = Tello()\n",
    "\n",
    "tello.send_command('command')\n",
    "tello.send_command('takeoff') \n",
    "time.sleep(3) \n",
    "tello.send_command('land') "
   ]
  },
  {
   "cell_type": "code",
   "execution_count": 3,
   "metadata": {},
   "outputs": [
    {
     "data": {
      "text/plain": [
       "[('2019-08-15T02:28:08.739937',\n",
       "  \"Sending command: command to ('192.168.10.1', 8889)\"),\n",
       " ('2019-08-15T02:28:08.754758', b'ok'),\n",
       " ('2019-08-15T02:28:08.754783', 'Command command executed successfully!'),\n",
       " ('2019-08-15T02:28:08.755404',\n",
       "  \"Sending command: takeoff to ('192.168.10.1', 8889)\"),\n",
       " ('2019-08-15T02:28:08.755524', 'Command takeoff executed successfully!'),\n",
       " ('2019-08-15T02:28:09.668275', b'ok'),\n",
       " ('2019-08-15T02:28:11.759640',\n",
       "  \"Sending command: land to ('192.168.10.1', 8889)\"),\n",
       " ('2019-08-15T02:28:11.760046', 'Command land executed successfully!')]"
      ]
     },
     "execution_count": 3,
     "metadata": {},
     "output_type": "execute_result"
    }
   ],
   "source": [
    "tello.log"
   ]
  }
 ],
 "metadata": {
  "kernelspec": {
   "display_name": "Python 3",
   "language": "python",
   "name": "python3"
  },
  "language_info": {
   "codemirror_mode": {
    "name": "ipython",
    "version": 3
   },
   "file_extension": ".py",
   "mimetype": "text/x-python",
   "name": "python",
   "nbconvert_exporter": "python",
   "pygments_lexer": "ipython3",
   "version": "3.6.8"
  }
 },
 "nbformat": 4,
 "nbformat_minor": 2
}
