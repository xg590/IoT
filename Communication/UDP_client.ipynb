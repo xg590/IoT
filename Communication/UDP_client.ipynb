{
 "cells": [
  {
   "cell_type": "code",
   "execution_count": 1,
   "metadata": {
    "code_folding": []
   },
   "outputs": [],
   "source": [
    "import socket, threading, time, random\n",
    "from datetime import datetime \n",
    "\n",
    "class Rover:\n",
    "    def __init__(self):\n",
    "        self.s = socket.socket(socket.AF_INET, socket.SOCK_DGRAM)  # Command Center Socket \n",
    "        self.s.bind(('127.0.0.1', 8890))  \n",
    "        self.rover_addr = ('127.0.0.1', 8891)    \n",
    "        self.flag = threading.Event() # block the main thread before receiving response\n",
    "        self.token = b''\n",
    "        self.receive_thread = threading.Thread(target=self.receiver)\n",
    "        self.receive_thread.daemon = True\n",
    "        self.receive_thread.start() \n",
    "        \n",
    "    def receiver(self): \n",
    "        while True:\n",
    "            data = b'' \n",
    "            try: \n",
    "                data, addr = self.s.recvfrom(1024)  \n",
    "                if data == self.token + b'**RT**': # RT = Roger That\n",
    "                    print(data)  \n",
    "                    self.flag.set() \n",
    "            except socket.error as exc:\n",
    "                self.log.append( (datetime.now().isoformat(), f\"Caught exception socket.error : {exc}\") )   \n",
    "         \n",
    "    def send_command(self, command, timeout=5):  \n",
    "        self.flag.clear()\n",
    "        self.token = str(random.randint(1, 65535)).zfill(5).encode('utf-8')\n",
    "        self.s.sendto(command.encode('utf-8')+self.token+b'**RT**', self.rover_addr)\n",
    "        if not self.flag.wait(timeout):\n",
    "            print(f'No response from Rover in {timeout} seconds, Check if it is offline!')\n",
    "\n",
    "rover = Rover()"
   ]
  },
  {
   "cell_type": "code",
   "execution_count": 2,
   "metadata": {},
   "outputs": [
    {
     "data": {
      "text/plain": [
       "31"
      ]
     },
     "execution_count": 2,
     "metadata": {},
     "output_type": "execute_result"
    }
   ],
   "source": [
    "rover.s.sendto(b'Just send a UDP packet ~ **RT**', ('127.0.0.1', 8891) )"
   ]
  },
  {
   "cell_type": "code",
   "execution_count": 3,
   "metadata": {},
   "outputs": [
    {
     "name": "stdout",
     "output_type": "stream",
     "text": [
      "b'03050**RT**'\n"
     ]
    }
   ],
   "source": [
    "rover.send_command('Check if the rover responds')"
   ]
  },
  {
   "cell_type": "markdown",
   "metadata": {},
   "source": [
    "### At this point, kill the server to see the difference~"
   ]
  },
  {
   "cell_type": "code",
   "execution_count": 4,
   "metadata": {},
   "outputs": [
    {
     "name": "stdout",
     "output_type": "stream",
     "text": [
      "No response from Rover in 5 seconds, Check if it is offline!\n"
     ]
    }
   ],
   "source": [
    "rover.send_command('What if the rover is offline', timeout=5) ## Main block will be blocked 5s if get no responded "
   ]
  }
 ],
 "metadata": {
  "kernelspec": {
   "display_name": "Python 3",
   "language": "python",
   "name": "python3"
  },
  "language_info": {
   "codemirror_mode": {
    "name": "ipython",
    "version": 3
   },
   "file_extension": ".py",
   "mimetype": "text/x-python",
   "name": "python",
   "nbconvert_exporter": "python",
   "pygments_lexer": "ipython3",
   "version": "3.6.8"
  }
 },
 "nbformat": 4,
 "nbformat_minor": 2
}
