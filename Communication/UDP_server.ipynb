{
 "cells": [
  {
   "cell_type": "code",
   "execution_count": 1,
   "metadata": {},
   "outputs": [
    {
     "name": "stdout",
     "output_type": "stream",
     "text": [
      "b'Just send a UDP packet ~ **RT**'\n",
      "b'Check if the rover responds03050**RT**'\n"
     ]
    }
   ],
   "source": [
    "import socket\n",
    "import threading\n",
    "import time \n",
    "from datetime import datetime \n",
    "class Rover:\n",
    "    def __init__(self): \n",
    "        self.s = socket.socket(socket.AF_INET, socket.SOCK_DGRAM)  \n",
    "        self.s.bind(('127.0.0.1', 8891)) \n",
    "        \n",
    "        # background thread for receiving cmd ack\n",
    "        self.receive_thread = threading.Thread(target=self.receiver)\n",
    "        self.receive_thread.daemon = True\n",
    "        self.receive_thread.start()\n",
    "\n",
    "    def receiver(self): \n",
    "        while True:\n",
    "            data = b''\n",
    "            while True:\n",
    "                chuck, addr = self.s.recvfrom(1024)  \n",
    "                data += chuck  \n",
    "                if data[-6:] == b'**RT**': # RT = Roger That\n",
    "                    print(data) \n",
    "                    self.s.sendto(data[-11:], (addr[0], 8890))  \n",
    "                    break\n",
    "rover = Rover()"
   ]
  }
 ],
 "metadata": {
  "kernelspec": {
   "display_name": "Python 3",
   "language": "python",
   "name": "python3"
  },
  "language_info": {
   "codemirror_mode": {
    "name": "ipython",
    "version": 3
   },
   "file_extension": ".py",
   "mimetype": "text/x-python",
   "name": "python",
   "nbconvert_exporter": "python",
   "pygments_lexer": "ipython3",
   "version": "3.6.8"
  }
 },
 "nbformat": 4,
 "nbformat_minor": 2
}
