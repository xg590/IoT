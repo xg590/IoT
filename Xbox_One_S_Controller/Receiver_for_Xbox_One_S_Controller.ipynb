{
 "cells": [
  {
   "cell_type": "raw",
   "metadata": {},
   "source": [
    "!pip3 install Flask"
   ]
  },
  {
   "cell_type": "code",
   "execution_count": null,
   "metadata": {},
   "outputs": [
    {
     "name": "stdout",
     "output_type": "stream",
     "text": [
      " * Serving Flask app \"__main__\" (lazy loading)\n",
      " * Environment: production\n",
      "   WARNING: This is a development server. Do not use it in a production deployment.\n",
      "   Use a production WSGI server instead.\n",
      " * Debug mode: off\n"
     ]
    },
    {
     "name": "stderr",
     "output_type": "stream",
     "text": [
      " * Running on http://0.0.0.0:9999/ (Press CTRL+C to quit)\n",
      "192.168.0.121 - - [05/Aug/2019 01:58:45] \"POST /receiver HTTP/1.1\" 200 -\n"
     ]
    },
    {
     "name": "stdout",
     "output_type": "stream",
     "text": [
      "ImmutableMultiDict([('ABS_X', '35000'), ('ABS_Y', '32000'), ('ABS_Z', '33000'), ('ABS_RZ', '33000'), ('ABS_GAS', '0'), ('ABS_BRAKE', '0')])\n"
     ]
    },
    {
     "name": "stderr",
     "output_type": "stream",
     "text": [
      "192.168.0.121 - - [05/Aug/2019 01:58:47] \"POST /receiver HTTP/1.1\" 200 -\n"
     ]
    },
    {
     "name": "stdout",
     "output_type": "stream",
     "text": [
      "ImmutableMultiDict([('ABS_X', '34849'), ('ABS_Y', '30912'), ('ABS_Z', '33354'), ('ABS_RZ', '32964'), ('ABS_GAS', '0'), ('ABS_BRAKE', '0')])\n"
     ]
    },
    {
     "name": "stderr",
     "output_type": "stream",
     "text": [
      "192.168.0.121 - - [05/Aug/2019 01:58:49] \"POST /receiver HTTP/1.1\" 200 -\n"
     ]
    },
    {
     "name": "stdout",
     "output_type": "stream",
     "text": [
      "ImmutableMultiDict([('BTN_A', '1')])\n"
     ]
    },
    {
     "name": "stderr",
     "output_type": "stream",
     "text": [
      "192.168.0.121 - - [05/Aug/2019 01:58:49] \"POST /receiver HTTP/1.1\" 200 -\n"
     ]
    },
    {
     "name": "stdout",
     "output_type": "stream",
     "text": [
      "ImmutableMultiDict([('ABS_X', '28179'), ('ABS_Y', '65535'), ('ABS_Z', '33354'), ('ABS_RZ', '34127'), ('ABS_GAS', '1023'), ('ABS_BRAKE', '0')])\n"
     ]
    },
    {
     "name": "stderr",
     "output_type": "stream",
     "text": [
      "192.168.0.121 - - [05/Aug/2019 01:58:51] \"POST /receiver HTTP/1.1\" 200 -\n"
     ]
    },
    {
     "name": "stdout",
     "output_type": "stream",
     "text": [
      "ImmutableMultiDict([('ABS_X', '2579'), ('ABS_Y', '49762'), ('ABS_Z', '33354'), ('ABS_RZ', '34127'), ('ABS_GAS', '0'), ('ABS_BRAKE', '0')])\n"
     ]
    },
    {
     "name": "stderr",
     "output_type": "stream",
     "text": [
      "192.168.0.121 - - [05/Aug/2019 01:58:53] \"POST /receiver HTTP/1.1\" 200 -\n"
     ]
    },
    {
     "name": "stdout",
     "output_type": "stream",
     "text": [
      "ImmutableMultiDict([('BTN_A', '0')])\n"
     ]
    },
    {
     "name": "stderr",
     "output_type": "stream",
     "text": [
      "192.168.0.121 - - [05/Aug/2019 01:58:54] \"POST /receiver HTTP/1.1\" 200 -\n"
     ]
    },
    {
     "name": "stdout",
     "output_type": "stream",
     "text": [
      "ImmutableMultiDict([('ABS_X', '41499'), ('ABS_Y', '65043'), ('ABS_Z', '65535'), ('ABS_RZ', '34744'), ('ABS_GAS', '0'), ('ABS_BRAKE', '0')])\n"
     ]
    },
    {
     "name": "stderr",
     "output_type": "stream",
     "text": [
      "192.168.0.121 - - [05/Aug/2019 01:58:56] \"POST /receiver HTTP/1.1\" 200 -\n"
     ]
    },
    {
     "name": "stdout",
     "output_type": "stream",
     "text": [
      "ImmutableMultiDict([('ABS_X', '35365'), ('ABS_Y', '31338'), ('ABS_Z', '33198'), ('ABS_RZ', '34438'), ('ABS_GAS', '0'), ('ABS_BRAKE', '0')])\n"
     ]
    },
    {
     "name": "stderr",
     "output_type": "stream",
     "text": [
      "192.168.0.121 - - [05/Aug/2019 01:58:58] \"POST /receiver HTTP/1.1\" 200 -\n",
      "192.168.0.121 - - [05/Aug/2019 01:58:58] \"POST /receiver HTTP/1.1\" 200 -\n",
      "192.168.0.121 - - [05/Aug/2019 01:58:58] \"POST /receiver HTTP/1.1\" 200 -\n"
     ]
    },
    {
     "name": "stdout",
     "output_type": "stream",
     "text": [
      "ImmutableMultiDict([('BTN_B', '1')])\n",
      "ImmutableMultiDict([('ABS_X', '35365'), ('ABS_Y', '31338'), ('ABS_Z', '33198'), ('ABS_RZ', '34438'), ('ABS_GAS', '0'), ('ABS_BRAKE', '0')])\n",
      "ImmutableMultiDict([('BTN_B', '0')])\n"
     ]
    },
    {
     "name": "stderr",
     "output_type": "stream",
     "text": [
      "192.168.0.121 - - [05/Aug/2019 01:58:58] \"POST /receiver HTTP/1.1\" 200 -\n",
      "192.168.0.121 - - [05/Aug/2019 01:58:58] \"POST /receiver HTTP/1.1\" 200 -\n"
     ]
    },
    {
     "name": "stdout",
     "output_type": "stream",
     "text": [
      "ImmutableMultiDict([('BTN_Y', '1')])\n",
      "ImmutableMultiDict([('BTN_Y', '0')])\n"
     ]
    },
    {
     "name": "stderr",
     "output_type": "stream",
     "text": [
      "192.168.0.121 - - [05/Aug/2019 01:58:58] \"POST /receiver HTTP/1.1\" 200 -\n",
      "192.168.0.121 - - [05/Aug/2019 01:58:58] \"POST /receiver HTTP/1.1\" 200 -\n"
     ]
    },
    {
     "name": "stdout",
     "output_type": "stream",
     "text": [
      "ImmutableMultiDict([('BTN_X', '1')])\n",
      "ImmutableMultiDict([('BTN_X', '0')])\n"
     ]
    },
    {
     "name": "stderr",
     "output_type": "stream",
     "text": [
      "192.168.0.121 - - [05/Aug/2019 01:59:00] \"POST /receiver HTTP/1.1\" 200 -\n"
     ]
    },
    {
     "name": "stdout",
     "output_type": "stream",
     "text": [
      "ImmutableMultiDict([('ABS_X', '35365'), ('ABS_Y', '31338'), ('ABS_Z', '33198'), ('ABS_RZ', '34438'), ('ABS_GAS', '0'), ('ABS_BRAKE', '0')])\n"
     ]
    },
    {
     "name": "stderr",
     "output_type": "stream",
     "text": [
      "192.168.0.121 - - [05/Aug/2019 01:59:02] \"POST /receiver HTTP/1.1\" 200 -\n"
     ]
    },
    {
     "name": "stdout",
     "output_type": "stream",
     "text": [
      "ImmutableMultiDict([('ABS_X', '35365'), ('ABS_Y', '31338'), ('ABS_Z', '33198'), ('ABS_RZ', '34438'), ('ABS_GAS', '0'), ('ABS_BRAKE', '0')])\n"
     ]
    },
    {
     "name": "stderr",
     "output_type": "stream",
     "text": [
      "192.168.0.121 - - [05/Aug/2019 01:59:04] \"POST /receiver HTTP/1.1\" 200 -\n"
     ]
    },
    {
     "name": "stdout",
     "output_type": "stream",
     "text": [
      "ImmutableMultiDict([('ABS_X', '35365'), ('ABS_Y', '31338'), ('ABS_Z', '33198'), ('ABS_RZ', '34438'), ('ABS_GAS', '0'), ('ABS_BRAKE', '0')])\n"
     ]
    },
    {
     "name": "stderr",
     "output_type": "stream",
     "text": [
      "192.168.0.121 - - [05/Aug/2019 01:59:06] \"POST /receiver HTTP/1.1\" 200 -\n"
     ]
    },
    {
     "name": "stdout",
     "output_type": "stream",
     "text": [
      "ImmutableMultiDict([('ABS_X', '35365'), ('ABS_Y', '31338'), ('ABS_Z', '33198'), ('ABS_RZ', '34438'), ('ABS_GAS', '0'), ('ABS_BRAKE', '0')])\n"
     ]
    },
    {
     "name": "stderr",
     "output_type": "stream",
     "text": [
      "192.168.0.121 - - [05/Aug/2019 01:59:08] \"POST /receiver HTTP/1.1\" 200 -\n"
     ]
    },
    {
     "name": "stdout",
     "output_type": "stream",
     "text": [
      "ImmutableMultiDict([('ABS_X', '35365'), ('ABS_Y', '31397'), ('ABS_Z', '33198'), ('ABS_RZ', '34438'), ('ABS_GAS', '0'), ('ABS_BRAKE', '0')])\n"
     ]
    }
   ],
   "source": [
    "from flask import Flask, request\n",
    "app = Flask(__name__)  \n",
    "\n",
    "@app.route('/receiver', methods=['POST', 'GET'])\n",
    "def receiver():\n",
    "    if request.method == 'GET':  \n",
    "        return 'Invalid Method'\n",
    "    elif request.method == 'POST': \n",
    "        print(request.form)  \n",
    "        return 'POST'\n",
    "\n",
    "app.run('0.0.0.0', 9999)"
   ]
  }
 ],
 "metadata": {
  "kernelspec": {
   "display_name": "Python 3",
   "language": "python",
   "name": "python3"
  },
  "language_info": {
   "codemirror_mode": {
    "name": "ipython",
    "version": 3
   },
   "file_extension": ".py",
   "mimetype": "text/x-python",
   "name": "python",
   "nbconvert_exporter": "python",
   "pygments_lexer": "ipython3",
   "version": "3.6.8"
  }
 },
 "nbformat": 4,
 "nbformat_minor": 2
}
