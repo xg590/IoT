{
 "cells": [
  {
   "cell_type": "raw",
   "metadata": {},
   "source": [
    "!pip3 install evdev requests"
   ]
  },
  {
   "cell_type": "code",
   "execution_count": 1,
   "metadata": {},
   "outputs": [],
   "source": [
    "from evdev import InputDevice, ecodes \n",
    "device = InputDevice('/dev/input/event0')  "
   ]
  },
  {
   "cell_type": "markdown",
   "metadata": {},
   "source": [
    "#### The following code will give each button or axis a name"
   ]
  },
  {
   "cell_type": "code",
   "execution_count": 2,
   "metadata": {},
   "outputs": [
    {
     "name": "stdout",
     "output_type": "stream",
     "text": [
      "{158: 'KEY_BACK', 304: 'BTN_A', 305: 'BTN_B', 306: 'BTN_C', 307: 'BTN_X', 308: 'BTN_Y', 309: 'BTN_Z', 310: 'BTN_TL', 311: 'BTN_TR', 312: 'BTN_TL2', 313: 'BTN_TR2', 314: 'BTN_SELECT', 315: 'BTN_START', 316: 'BTN_MODE', 317: 'BTN_THUMBL', 318: 'BTN_THUMBR', 0: 'ABS_X', 1: 'ABS_Y', 2: 'ABS_Z', 5: 'ABS_RZ', 9: 'ABS_GAS', 10: 'ABS_BRAKE', 16: 'ABS_HAT0X', 17: 'ABS_HAT0Y'}\n"
     ]
    }
   ],
   "source": [
    "code2name = {}\n",
    "for type_, code_ in device.capabilities(verbose=True, absinfo=False).items(): \n",
    "    if type_[0] in ['EV_KEY', 'EV_ABS']:\n",
    "        for name, code in code_:  \n",
    "            if isinstance(name,list): \n",
    "                if   'BTN_A' in name: code2name[code] = 'BTN_A'  \n",
    "                elif 'BTN_B' in name: code2name[code] = 'BTN_B'   \n",
    "                elif 'BTN_X' in name: code2name[code] = 'BTN_X'  \n",
    "                elif 'BTN_Y' in name: code2name[code] = 'BTN_Y'  \n",
    "                continue\n",
    "            code2name[code] = name\n",
    "print(code2name)"
   ]
  },
  {
   "cell_type": "raw",
   "metadata": {},
   "source": [
    "View button is called 'KEY_BACK' here and its code is 158\n",
    "Button A is called 'BTN_A' and its code is 304"
   ]
  },
  {
   "cell_type": "markdown",
   "metadata": {},
   "source": [
    "#### We need the code for every digital button since one message will be sent to server each time we press one"
   ]
  },
  {
   "cell_type": "code",
   "execution_count": 3,
   "metadata": {},
   "outputs": [],
   "source": [
    "digital = ['KEY_BACK', 'BTN_A', 'BTN_B', 'BTN_C', 'BTN_X', 'BTN_Y', 'BTN_Z', 'BTN_TL', 'BTN_TR', 'BTN_TL2', 'BTN_TR2', 'BTN_SELECT', 'BTN_START', 'BTN_MODE', 'BTN_THUMBL', 'BTN_THUMBR', 'ABS_HAT0X', 'ABS_HAT0Y']\n",
    "digital = [code for code, name in code2name.items() if name in digital] "
   ]
  },
  {
   "cell_type": "markdown",
   "metadata": {},
   "source": [
    "#### We also need the code for every analog axis but we will send the position of analog axes periodically since the position is changing quickly and constantly (we cannot send the change every time it is detected because that is expansive). "
   ]
  },
  {
   "cell_type": "code",
   "execution_count": 4,
   "metadata": {},
   "outputs": [],
   "source": [
    "analog_position = {\n",
    "        'ABS_X':35000, # default value for left  stick X   \n",
    "        'ABS_Y':32000, # default value for left  stick Y\n",
    "        'ABS_Z':33000, # default value for right stick X\n",
    "       'ABS_RZ':33000, # default value for right stick Y\n",
    "      'ABS_GAS':0,     # default value for right trigger              \n",
    "    'ABS_BRAKE':0,     # default value for left  trigger    \n",
    "}\n",
    "analog = [code for code, name in code2name.items() if name in analog_position.keys()] "
   ]
  },
  {
   "cell_type": "markdown",
   "metadata": {},
   "source": [
    "#### We will create a hook to log the position of analog axes and send a message once a button is pressed"
   ]
  },
  {
   "cell_type": "code",
   "execution_count": 5,
   "metadata": {},
   "outputs": [],
   "source": [
    "import requests \n",
    "\n",
    "def hook(analog, analog_position, digital):\n",
    "    for event in device.read_loop(): \n",
    "        if event.code in analog and event.type == ecodes.EV_ABS: \n",
    "            analog_position[code2name[event.code]] = event.value  # analog_position variable is changing quickly and constantly \n",
    "        elif event.code in digital and event.type in [ecodes.EV_ABS, ecodes.EV_KEY]:\n",
    "            requests.post('http://192.168.0.222:9999/receiver', data={code2name[event.code]:event.value}) # send msg for each button pressing\n",
    "            \n",
    "import threading\n",
    "hook_thread = threading.Thread(target=hook, args=(analog, analog_position, digital))\n",
    "hook_thread.start() # this background thread will monitor axis event and modify variable axis in a real-time manner "
   ]
  },
  {
   "cell_type": "markdown",
   "metadata": {},
   "source": [
    "#### This thread would report the position of analog axes to server periodically"
   ]
  },
  {
   "cell_type": "code",
   "execution_count": 6,
   "metadata": {},
   "outputs": [],
   "source": [
    "import time\n",
    "def analog_reporter(analog_position, interval=0.5):\n",
    "    while True: \n",
    "        requests.post('http://192.168.0.222:9999/receiver', data=analog_position) \n",
    "        time.sleep(interval)\n",
    "\n",
    "import threading\n",
    "reporter_thread = threading.Thread(target=analog_reporter, args=(analog_position, 2))\n",
    "reporter_thread.start() # this background thread will report axis value every 2 seconds"
   ]
  }
 ],
 "metadata": {
  "kernelspec": {
   "display_name": "Python 3",
   "language": "python",
   "name": "python3"
  },
  "language_info": {
   "codemirror_mode": {
    "name": "ipython",
    "version": 3
   },
   "file_extension": ".py",
   "mimetype": "text/x-python",
   "name": "python",
   "nbconvert_exporter": "python",
   "pygments_lexer": "ipython3",
   "version": "3.7.3"
  }
 },
 "nbformat": 4,
 "nbformat_minor": 2
}
