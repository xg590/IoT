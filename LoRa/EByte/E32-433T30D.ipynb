{
 "cells": [
  {
   "cell_type": "markdown",
   "metadata": {},
   "source": [
    "### Read  parameters\n",
    "* Put the module in Sleep mode before reading "
   ]
  },
  {
   "cell_type": "code",
   "execution_count": 2,
   "metadata": {},
   "outputs": [],
   "source": [
    "# Wiring\n",
    "_ = '''\n",
    "LoRa       CP2102\n",
    "M0    <--> 3V3 \n",
    "M1    <--> 3V3\n",
    "RX    <--> Tx \n",
    "TX    <--> Rx\n",
    "AUX   <--> \n",
    "VCC   <--> 5V \n",
    "GND   <--> GND \n",
    "'''"
   ]
  },
  {
   "cell_type": "code",
   "execution_count": 5,
   "metadata": {},
   "outputs": [],
   "source": [
    "import serial \n",
    "ser = serial.Serial('/dev/ttyUSB2',baudrate=9600, timeout=1) # Linux"
   ]
  },
  {
   "cell_type": "code",
   "execution_count": 9,
   "metadata": {},
   "outputs": [],
   "source": [
    "def LoRA_write(cmd):\n",
    "    ser.write(cmd) \n",
    "    while 1:\n",
    "        r = ser.read()\n",
    "        if not r: break\n",
    "        print(r.hex())"
   ]
  },
  {
   "cell_type": "code",
   "execution_count": 10,
   "metadata": {},
   "outputs": [
    {
     "name": "stdout",
     "output_type": "stream",
     "text": [
      "c3\n",
      "32\n",
      "48\n",
      "1e\n"
     ]
    }
   ],
   "source": [
    "# Get module version \n",
    "LoRA_write(bytearray([0xC3, 0xC3, 0xC3])) \n",
    "# C3: irrelevant   \n",
    "# 32: 433MHz (44 is 915MHz)  \n",
    "# 48: version   \n",
    "# 1E: irrelevant   "
   ]
  },
  {
   "cell_type": "code",
   "execution_count": 11,
   "metadata": {},
   "outputs": [
    {
     "name": "stdout",
     "output_type": "stream",
     "text": [
      "c0\n",
      "00\n",
      "00\n",
      "1a\n",
      "17\n",
      "44\n"
     ]
    }
   ],
   "source": [
    "# Get module operating parameters \n",
    "LoRA_write(bytearray([0xC1, 0xC1, 0xC1])) \n",
    "# C0: Permanent Record. C2 is temporary  \n",
    "# 00: High Addr\n",
    "# 00: Low Addr\n",
    "# 1A: hex 1A = bin 00,011,010  00: 8N1  011: 9600bps   010: 2.4kbps \n",
    "# 17: hex 17 = Deci 23   410 + 23 = 433MHz\n",
    "# 44: hex 44 = bin 0,1,000,1,00    0: Transparent mode  1: Rx/TX/AUX pull-up resistor  000: 250ms wake-up time\n",
    "#                                  1: FEC on       00: 30dBm Tx power"
   ]
  },
  {
   "cell_type": "code",
   "execution_count": 20,
   "metadata": {},
   "outputs": [
    {
     "name": "stdout",
     "output_type": "stream",
     "text": [
      "c0\n",
      "00\n",
      "00\n",
      "1a\n",
      "17\n",
      "47\n"
     ]
    }
   ],
   "source": [
    "# Set Tx power to 21dBm\n",
    "LoRA_write(bytearray([0xC0, 0x00, 0x00, 0x1A, 0x17, 0b01000111])) "
   ]
  },
  {
   "cell_type": "markdown",
   "metadata": {},
   "source": [
    "### Transmit message\n",
    "* Put the module in Normal mode before reading "
   ]
  },
  {
   "cell_type": "code",
   "execution_count": 19,
   "metadata": {},
   "outputs": [
    {
     "data": {
      "text/plain": [
       "'0b1000100'"
      ]
     },
     "execution_count": 19,
     "metadata": {},
     "output_type": "execute_result"
    }
   ],
   "source": [
    "# Rewiring\n",
    "_ = '''\n",
    "LoRa       CP2102\n",
    "M0    <--> GND \n",
    "M1    <--> GND \n",
    "'''"
   ]
  },
  {
   "cell_type": "code",
   "execution_count": 22,
   "metadata": {},
   "outputs": [],
   "source": [
    "LoRA_write(b'Hello World!')"
   ]
  }
 ],
 "metadata": {
  "kernelspec": {
   "display_name": "Python 3",
   "language": "python",
   "name": "python3"
  },
  "language_info": {
   "codemirror_mode": {
    "name": "ipython",
    "version": 3
   },
   "file_extension": ".py",
   "mimetype": "text/x-python",
   "name": "python",
   "nbconvert_exporter": "python",
   "pygments_lexer": "ipython3",
   "version": "3.6.5"
  }
 },
 "nbformat": 4,
 "nbformat_minor": 4
}
