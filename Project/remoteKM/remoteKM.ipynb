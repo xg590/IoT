{
 "cells": [
  {
   "cell_type": "raw",
   "id": "0bf808ab",
   "metadata": {},
   "source": [
    "pip install smbus2 "
   ]
  },
  {
   "cell_type": "code",
   "execution_count": null,
   "id": "69f697d8",
   "metadata": {},
   "outputs": [],
   "source": [
    "from smbus2 import SMBus, i2c_msg\n",
    "\n",
    "with SMBus(1) as bus:   \n",
    "    msg = i2c_msg.write(0x34, [ord('k'), ord('w'), 0xC1, 255, 5]) # bytes must be in range [0, 256)\n",
    "    bus.i2c_rdwr(msg)"
   ]
  },
  {
   "cell_type": "code",
   "execution_count": null,
   "id": "24ae9176",
   "metadata": {},
   "outputs": [],
   "source": [
    "from smbus2 import SMBus, i2c_msg\n",
    "\n",
    "with SMBus(1) as bus:   \n",
    "    msg = i2c_msg.write(0x34, [ord('m'), ord('m'), 127, 180, 0]) # bytes must be in range [0, 256)  x-128\n",
    "    bus.i2c_rdwr(msg)"
   ]
  },
  {
   "cell_type": "code",
   "execution_count": null,
   "id": "245c5ee4",
   "metadata": {},
   "outputs": [],
   "source": [
    "Mouse = {\n",
    "\"LEFT\":   1,\n",
    "\"RIGHT\":  2,\n",
    "\"MIDDLE\": 4,\n",
    "\"ALL\":    7\n",
    "} \n",
    "\n",
    "Keyboard = {\n",
    "# Modifiers\n",
    "\"LEFT_CTRL\"\t\t:0x80,\n",
    "\"LEFT_SHIFT\"\t:0x81,\n",
    "\"LEFT_ALT\"\t\t:0x82,\n",
    "\"LEFT_GUI\"\t\t:0x83,\n",
    "\"RIGHT_CTRL\"\t:0x84,\n",
    "\"RIGHT_SHIFT\"\t:0x85,\n",
    "\"RIGHT_ALT\"\t\t:0x86,\n",
    "\"RIGHT_GUI\"\t\t:0x87,\n",
    "# Misckeys\n",
    "\"UP_ARROW\"\t\t:0xDA,\n",
    "\"DOWN_ARROW\"\t:0xD9,\n",
    "\"LEFT_ARROW\"\t:0xD8,\n",
    "\"RIGHT_ARROW\"\t:0xD7,\n",
    "\"BACKSPACE\"\t\t:0xB2,\n",
    "\"TAB\"\t\t\t:0xB3,\n",
    "\"RETURN\"\t\t:0xB0,\n",
    "\"MENU\"\t\t\t:0xED,\n",
    "\"ESC\"\t\t\t:0xB1,\n",
    "\"INSERT\"\t\t:0xD1,\n",
    "\"DELETE\"\t\t:0xD4,\n",
    "\"PAGE_UP\"\t\t:0xD3,\n",
    "\"PAGE_DOWN\"\t\t:0xD6,\n",
    "\"HOME\"\t\t\t:0xD2,\n",
    "\"END\"\t\t\t:0xD5,\n",
    "\"CAPS_LOCK\"\t\t:0xC1,\n",
    "\"PRINT_SCREEN\"\t:0xCE,\n",
    "\"SCROLL_LOCK\"\t:0xCF,\n",
    "\"PAUSE\"\t\t\t:0xD0,\n",
    "# Numeric keypad\n",
    "\"NUM_LOCK\"\t\t:0xDB,\n",
    "\"KP_SLASH\"\t\t:0xDC,\n",
    "\"KP_ASTERISK\"\t:0xDD,\n",
    "\"KP_MINUS\"\t\t:0xDE,\n",
    "\"KP_PLUS\"\t\t:0xDF,\n",
    "\"KP_ENTER\"\t\t:0xE0,\n",
    "\"KP_1\"\t\t\t:0xE1,\n",
    "\"KP_2\"\t\t\t:0xE2,\n",
    "\"KP_3\"\t\t\t:0xE3,\n",
    "\"KP_4\"\t\t\t:0xE4,\n",
    "\"KP_5\"\t\t\t:0xE5,\n",
    "\"KP_6\"\t\t\t:0xE6,\n",
    "\"KP_7\"\t\t\t:0xE7,\n",
    "\"KP_8\"\t\t\t:0xE8,\n",
    "\"KP_9\"\t\t\t:0xE9,\n",
    "\"KP_0\"\t\t\t:0xEA,\n",
    "\"KP_DOT\"\t\t:0xEB,\n",
    "# Functionkeys\n",
    "\"F1\"\t\t\t:0xC2,\n",
    "\"F2\"\t\t\t:0xC3,\n",
    "\"F3\"\t\t\t:0xC4,\n",
    "\"F4\"\t\t\t:0xC5,\n",
    "\"F5\"\t\t\t:0xC6,\n",
    "\"F6\"\t\t\t:0xC7,\n",
    "\"F7\"\t\t\t:0xC8,\n",
    "\"F8\"\t\t\t:0xC9,\n",
    "\"F9\"\t\t\t:0xCA,\n",
    "\"F10\"\t\t\t:0xCB,\n",
    "\"F11\"\t\t\t:0xCC,\n",
    "\"F12\"\t\t\t:0xCD,\n",
    "\"F13\"\t\t\t:0xF0,\n",
    "\"F14\"\t\t\t:0xF1,\n",
    "\"F15\"\t\t\t:0xF2,\n",
    "\"F16\"\t\t\t:0xF3,\n",
    "\"F17\"\t\t\t:0xF4,\n",
    "\"F18\"\t\t\t:0xF5,\n",
    "\"F19\"\t\t\t:0xF6,\n",
    "\"F20\"\t\t\t:0xF7,\n",
    "\"F21\"\t\t\t:0xF8,\n",
    "\"F22\"\t\t\t:0xF9,\n",
    "\"F23\"\t\t\t:0xFA,\n",
    "\"F24\"\t\t\t:0xFB,\n",
    "}"
   ]
  },
  {
   "cell_type": "code",
   "execution_count": null,
   "id": "de01e0bf",
   "metadata": {},
   "outputs": [],
   "source": []
  }
 ],
 "metadata": {
  "kernelspec": {
   "display_name": "Python 3 (ipykernel)",
   "language": "python",
   "name": "python3"
  },
  "language_info": {
   "codemirror_mode": {
    "name": "ipython",
    "version": 3
   },
   "file_extension": ".py",
   "mimetype": "text/x-python",
   "name": "python",
   "nbconvert_exporter": "python",
   "pygments_lexer": "ipython3",
   "version": "3.9.2"
  }
 },
 "nbformat": 4,
 "nbformat_minor": 5
}
