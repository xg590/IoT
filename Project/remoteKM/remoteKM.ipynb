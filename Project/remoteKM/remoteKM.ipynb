{
 "cells": [
  {
   "cell_type": "raw",
   "id": "c41a4d7f",
   "metadata": {},
   "source": [
    "# pip install smbus2 websockets"
   ]
  },
  {
   "cell_type": "raw",
   "id": "cc40deff",
   "metadata": {},
   "source": [
    "from smbus2 import SMBus, i2c_msg\n",
    "\n",
    "with SMBus(1) as bus:   \n",
    "    msg = i2c_msg.write(0x34, [ord('k'), ord('w'), 0x83, 255, 5]) # bytes must be in range [0, 256)\n",
    "    bus.i2c_rdwr(msg)"
   ]
  },
  {
   "cell_type": "code",
   "execution_count": 1,
   "id": "27f6599f",
   "metadata": {},
   "outputs": [],
   "source": [
    "import ssl\n",
    "import json\n",
    "import asyncio\n",
    "import logging\n",
    "import websockets\n",
    "import threading \n",
    "from smbus2 import SMBus, i2c_msg \n",
    "\n",
    "bus = SMBus(1) \n",
    "ws_conns = set() \n",
    "\n",
    "async def broadcaster(ws_conn):\n",
    "    global ws_conns \n",
    "    try: \n",
    "        ws_conns.add(ws_conn)\n",
    "        # Send current state to user\n",
    "        websockets.broadcast(ws_conns, json.dumps({\"type\": \"users\", \"count\": len(ws_conns)}))\n",
    "\n",
    "        async for msg in ws_conn:\n",
    "            websockets.broadcast(ws_conns, msg)\n",
    "            msg   = json.loads(msg)\n",
    "            dev   = msg[\"device\"]\n",
    "            val   = msg[\"value\"]\n",
    "            val_t = msg[\"value_type\"]  \n",
    "            if dev=='keyboard':\n",
    "                if val_t == \"string\":\n",
    "                    val = ord(val)  \n",
    "                else:\n",
    "                    val = int(val)\n",
    "                bus.i2c_rdwr(i2c_msg.write(0x34, [ord('k'), ord('w'), val, 255, 5]))\n",
    "            print(msg) \n",
    "            # # bytes must be in range [0, 256)\n",
    "    finally: \n",
    "        ws_conns.remove(ws_conn)\n",
    "        websockets.broadcast(ws_conns, json.dumps({\"type\": \"users\", \"count\": len(ws_conns)}))\n",
    "\n",
    "async def main():\n",
    "    #ssl_context = ssl.SSLContext(ssl.PROTOCOL_TLS_SERVER) \n",
    "    #ssl_context.load_cert_chain(\"/path/to/the/cert_chain\") \n",
    "    async with websockets.serve(broadcaster, \"192.168.12.238\", 8765): # , ssl=ssl_context):\n",
    "        await asyncio.Future()  # run forever \n",
    "\n",
    "def foo(): asyncio.run(main())\n",
    "threading.Thread(target=foo).start()  "
   ]
  },
  {
   "cell_type": "code",
   "execution_count": 3,
   "id": "b410247a",
   "metadata": {},
   "outputs": [],
   "source": [
    "bus.close()"
   ]
  }
 ],
 "metadata": {
  "kernelspec": {
   "display_name": "Python 3 (ipykernel)",
   "language": "python",
   "name": "python3"
  },
  "language_info": {
   "codemirror_mode": {
    "name": "ipython",
    "version": 3
   },
   "file_extension": ".py",
   "mimetype": "text/x-python",
   "name": "python",
   "nbconvert_exporter": "python",
   "pygments_lexer": "ipython3",
   "version": "3.9.2"
  }
 },
 "nbformat": 4,
 "nbformat_minor": 5
}
