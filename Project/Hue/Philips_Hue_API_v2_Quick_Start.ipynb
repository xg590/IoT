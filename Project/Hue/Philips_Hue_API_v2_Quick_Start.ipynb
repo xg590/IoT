{
 "cells": [
  {
   "cell_type": "markdown",
   "id": "8cf6dec4",
   "metadata": {},
   "source": [
    "### [Quick Start](https://developers.meethue.com/develop/hue-api-v2/getting-started/) : Press the button on the bridge before the first post"
   ]
  },
  {
   "cell_type": "code",
   "execution_count": null,
   "id": "ba317314",
   "metadata": {
    "ExecuteTime": {
     "end_time": "2022-10-02T18:55:41.223910Z",
     "start_time": "2022-10-02T18:55:41.021570Z"
    }
   },
   "outputs": [],
   "source": [
    "import requests, urllib3\n",
    "urllib3.disable_warnings(urllib3.exceptions.InsecureRequestWarning)"
   ]
  },
  {
   "cell_type": "code",
   "execution_count": null,
   "id": "f8619644",
   "metadata": {
    "ExecuteTime": {
     "end_time": "2022-10-02T18:55:41.346079Z",
     "start_time": "2022-10-02T18:55:41.340159Z"
    }
   },
   "outputs": [],
   "source": [
    "hue_bridge_ip = '192.168.xxx.xxx'"
   ]
  },
  {
   "cell_type": "code",
   "execution_count": null,
   "id": "f8759b50",
   "metadata": {
    "ExecuteTime": {
     "end_time": "2022-10-02T18:55:41.797547Z",
     "start_time": "2022-10-02T18:55:41.676269Z"
    }
   },
   "outputs": [],
   "source": [
    "r = requests.post(f'https://{hue_bridge_ip}/api', \n",
    "                  json={\"devicetype\":\"foobar\"},\n",
    "                 verify=False) \n",
    "print(r.json())\n",
    "appkey=r.json()[0]['success']['username'] "
   ]
  },
  {
   "cell_type": "code",
   "execution_count": null,
   "id": "ff672bf2",
   "metadata": {
    "ExecuteTime": {
     "end_time": "2022-10-02T18:55:42.545924Z",
     "start_time": "2022-10-02T18:55:42.282463Z"
    }
   },
   "outputs": [],
   "source": [
    "r = requests.get(f'https://{hue_bridge_ip}/clip/v2/resource/device', \n",
    "                 headers={'hue-application-key': appkey}, \n",
    "                 verify=False) \n",
    "r.json()"
   ]
  },
  {
   "cell_type": "code",
   "execution_count": null,
   "id": "d6d4da77",
   "metadata": {
    "ExecuteTime": {
     "end_time": "2022-10-02T18:55:55.321159Z",
     "start_time": "2022-10-02T18:55:55.295521Z"
    },
    "scrolled": false
   },
   "outputs": [],
   "source": [
    "r.json()['data'][6]['services']"
   ]
  },
  {
   "cell_type": "code",
   "execution_count": null,
   "id": "5cef8587",
   "metadata": {
    "ExecuteTime": {
     "end_time": "2022-10-02T18:56:13.236167Z",
     "start_time": "2022-10-02T18:56:13.220357Z"
    }
   },
   "outputs": [],
   "source": [
    "rid = r.json()['data'][6]['services'][0]['rid'] # corresponding rtype must be 'light'"
   ]
  },
  {
   "cell_type": "code",
   "execution_count": null,
   "id": "99edb001",
   "metadata": {
    "ExecuteTime": {
     "end_time": "2022-10-02T18:56:14.086284Z",
     "start_time": "2022-10-02T18:56:13.940985Z"
    }
   },
   "outputs": [],
   "source": [
    "r = requests.get(f'https://{hue_bridge_ip}/clip/v2/resource/light/{rid}', \n",
    "                 headers={'hue-application-key': appkey},  \n",
    "                 verify=False) \n",
    "r.json() "
   ]
  },
  {
   "cell_type": "code",
   "execution_count": null,
   "id": "af6e8920",
   "metadata": {
    "ExecuteTime": {
     "end_time": "2022-10-02T18:56:22.416580Z",
     "start_time": "2022-10-02T18:56:22.240112Z"
    }
   },
   "outputs": [],
   "source": [
    "r = requests.put(f'https://{hue_bridge_ip}/clip/v2/resource/light/{rid}', \n",
    "                 headers={'hue-application-key': appkey}, \n",
    "                  json={ \n",
    "                         'on': {'on': False}, \n",
    "                         'dimming': {'brightness': 100} # 0 ~100\n",
    "                       },\n",
    "                 verify=False) \n",
    "r.json()"
   ]
  },
  {
   "cell_type": "markdown",
   "id": "8c69e681",
   "metadata": {},
   "source": [
    "[Next: Remote Control](https://developers.meethue.com/develop/hue-api-v2/cloud2cloud-getting-started/)"
   ]
  }
 ],
 "metadata": {
  "kernelspec": {
   "display_name": "Python 3 (ipykernel)",
   "language": "python",
   "name": "python3"
  },
  "language_info": {
   "codemirror_mode": {
    "name": "ipython",
    "version": 3
   },
   "file_extension": ".py",
   "mimetype": "text/x-python",
   "name": "python",
   "nbconvert_exporter": "python",
   "pygments_lexer": "ipython3",
   "version": "3.9.2"
  }
 },
 "nbformat": 4,
 "nbformat_minor": 5
}
