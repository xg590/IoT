{
 "cells": [
  {
   "cell_type": "code",
   "execution_count": null,
   "id": "5282867b",
   "metadata": {
    "ExecuteTime": {
     "end_time": "2022-09-30T14:33:02.478178Z",
     "start_time": "2022-09-30T14:32:57.928761Z"
    }
   },
   "outputs": [],
   "source": [
    "!jupyter nbconvert PIR.ipynb --to script --output-dir misc"
   ]
  },
  {
   "cell_type": "code",
   "execution_count": null,
   "id": "620fbc36",
   "metadata": {
    "ExecuteTime": {
     "end_time": "2022-09-30T14:44:34.834755Z",
     "start_time": "2022-09-30T14:41:54.476430Z"
    }
   },
   "outputs": [],
   "source": [
    "import multiprocessing, subprocess, requests, time, datetime\n",
    "\n",
    "def foo(conn): \n",
    "    sp = subprocess.Popen(args=['python3','misc/PIR.py']) # cannot terminate in main process\n",
    "    conn.recv()\n",
    "    conn.close()\n",
    "    sp.terminate() # Terminate subprocess will put it in zombie state. End its parent process is needed.\n",
    "\n",
    "heartbeat = 60\n",
    "\n",
    "while 1:\n",
    "    pconn, conn = multiprocessing.Pipe()\n",
    "    p = multiprocessing.Process(target=foo, args=(conn,))\n",
    "    p.start()\n",
    "    time.sleep(10)\n",
    "    while 1:\n",
    "        try:\n",
    "            r = requests.get('http://localhost:5009/heartbeat', timeout=10)\n",
    "            time.sleep(heartbeat)\n",
    "        except requests.exceptions.Timeout as e:\n",
    "            pconn.send(None) # unblock another process\n",
    "            time.sleep(5)\n",
    "            p.close()        # end another process \n",
    "            print(f\"heart stopped @ {datetime.datetime.now().strftime('%Y-%m-%dT%H:%M:%S')}; restart now!\")\n",
    "            break "
   ]
  },
  {
   "cell_type": "code",
   "execution_count": null,
   "id": "35bc3af2",
   "metadata": {},
   "outputs": [],
   "source": []
  }
 ],
 "metadata": {
  "kernelspec": {
   "display_name": "Python 3 (ipykernel)",
   "language": "python",
   "name": "python3"
  },
  "language_info": {
   "codemirror_mode": {
    "name": "ipython",
    "version": 3
   },
   "file_extension": ".py",
   "mimetype": "text/x-python",
   "name": "python",
   "nbconvert_exporter": "python",
   "pygments_lexer": "ipython3",
   "version": "3.9.2"
  }
 },
 "nbformat": 4,
 "nbformat_minor": 5
}
