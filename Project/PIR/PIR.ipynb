{
 "cells": [
  {
   "cell_type": "markdown",
   "id": "4dd6a188",
   "metadata": {},
   "source": [
    "### D1_mini x 2 + Raspberry Pi\n",
    "\n",
    "### Download drivers ssd1306, umqtt\n",
    "```shell \n",
    "wget https://raw.githubusercontent.com/xg590/IoT/master/MicroPython/driver/ssd1306.py -O driver/ssd1306.py\n",
    "wget https://raw.githubusercontent.com/micropython/micropython-lib/master/micropython/umqtt.simple/umqtt/simple.py -O driver/umqtt.py  \n",
    "``` \n",
    "### Copy to ESP8266\n",
    "```shell \n",
    "rshell -p /dev/ttyUSB0 cp driver/ssd1306.py driver/umqtt.py /pyboard/\n",
    "```\n",
    "\n",
    "### Setup ESP8266"
   ]
  },
  {
   "cell_type": "raw",
   "id": "fab09cc1",
   "metadata": {
    "ExecuteTime": {
     "start_time": "2022-10-05T03:39:49.866Z"
    }
   },
   "source": [
    "!sudo iptables -I INPUT -i wlan0 -p tcp --match multiport --dport 1883,5009 -j ACCEPT"
   ]
  },
  {
   "cell_type": "code",
   "execution_count": null,
   "id": "f58a96d4",
   "metadata": {
    "ExecuteTime": {
     "end_time": "2022-10-05T04:42:46.045781Z",
     "start_time": "2022-10-05T04:42:45.999096Z"
    }
   },
   "outputs": [],
   "source": [
    "webrepl_host_ip=\"192.168.3.157\"\n",
    "mqtt_host_ip   =\"192.168.3.228\""
   ]
  },
  {
   "cell_type": "code",
   "execution_count": null,
   "id": "3ee8dfa8",
   "metadata": {
    "ExecuteTime": {
     "end_time": "2022-10-05T04:42:46.154500Z",
     "start_time": "2022-10-05T04:42:46.146861Z"
    }
   },
   "outputs": [],
   "source": [
    "import sys\n",
    "sys.path.append(\"/var/www/html/project/pyWebREPL/\")\n",
    "from pyWebREPL import WEBREPL "
   ]
  },
  {
   "cell_type": "raw",
   "id": "14d9b062",
   "metadata": {
    "ExecuteTime": {
     "end_time": "2022-10-05T04:32:35.719365Z",
     "start_time": "2022-10-05T04:32:21.279164Z"
    }
   },
   "source": [
    "webrepl = WEBREPL(host=webrepl_host_ip, password='123456') \n",
    "def write_main(main): \n",
    "    webrepl.send('''fw=open('main.py','w')''')\n",
    "    print(webrepl.recv())  \n",
    "    for code in main.strip().splitlines():\n",
    "        webrepl.send(\"\"\"fw.write('''\"\"\"+code+\"\"\"\\\\r''')\"\"\") \n",
    "        print(webrepl.recv()) \n",
    "    webrepl.send('''fw.flush()\\nfw.close()''')\n",
    "    print(webrepl.recv())    \n",
    "\n",
    "write_main(f'''  \n",
    "import time, ssd1306 \n",
    "from machine import Pin, I2C , PWM \n",
    "\n",
    "p2 = Pin(2, Pin.OUT, value=1)   \n",
    "p2.off()          \n",
    "time.sleep(0.5) \n",
    "p2.on()\n",
    "\n",
    "i2c = I2C(scl=Pin(5), sda=Pin(4))  \n",
    "oled = ssd1306.SSD1306_I2C(64, 48, i2c)\n",
    "oled.fill(0)\n",
    "oled.text(\"1st Line\", 0, 0, col=1) \n",
    "oled.text(\"2nd Line\", 0, 13, col=1)  \n",
    "oled.text(\"3rd Line\", 0, 26, col=1)   \n",
    "oled.text(\"3rd Line\", 0, 39, col=1)  \n",
    "oled.show()\n",
    "\n",
    "beeper = PWM(Pin(15))  \n",
    "beeper.freq(400)\n",
    "# duty 0~1023, larger, louder\n",
    "beeper.duty(50) \n",
    "time.sleep(0.05)\n",
    "beeper.deinit()\n",
    "\n",
    "counter = 0\n",
    "def sub_cb(topic, msg):   \n",
    "    if msg==b\"Motion Sensor\":\n",
    "        global counter \n",
    "        counter += 1\n",
    "        \n",
    "        beeper.freq(400) \n",
    "        beeper.duty(150) \n",
    "        time.sleep(0.05)\n",
    "        beeper.deinit()\n",
    "        \n",
    "        oled.fill(0)\n",
    "        oled.text('[Cnt] '+str(counter), 0, 0, col=1) \n",
    "        oled.text(msg, 0, 27, col=1)  \n",
    "        oled.show()\n",
    "\n",
    "\n",
    "from umqtt import MQTTClient\n",
    "c = MQTTClient(\"client_id\", \"{mqtt_host_ip}\") \n",
    "c.set_callback(sub_cb)\n",
    "''') \n",
    "webrepl.close()"
   ]
  },
  {
   "cell_type": "code",
   "execution_count": null,
   "id": "779549a2",
   "metadata": {
    "ExecuteTime": {
     "end_time": "2022-10-05T04:46:58.731322Z",
     "start_time": "2022-10-05T04:46:58.345164Z"
    }
   },
   "outputs": [],
   "source": [
    "# sub_cb(\"dddd\",b\"Hello From ESP8266\")\n",
    "# mosquitto_pub -h 192.168.12.223 -t testTopic -m \"Motion Sensor\" \n",
    "\n",
    "webrepl = WEBREPL(host=webrepl_host_ip, password='123456') \n",
    "webrepl._send([b'\\x03']) # Ctrl + C\n",
    "webrepl._send([b'\\x04']) # Ctrl + D\n",
    "webrepl.send(f'''\n",
    "c.connect()\n",
    "c.subscribe(b\"testTopic\")\n",
    "while 1: \n",
    "    c.wait_msg()\n",
    "\n",
    "''')  \n",
    "# We are not going to receive anything from ESP32 anymore because mqtt has block the main process\n",
    "webrepl.close()"
   ]
  },
  {
   "cell_type": "markdown",
   "id": "102363dc",
   "metadata": {},
   "source": [
    "### Setup Raspberry Pi"
   ]
  },
  {
   "cell_type": "code",
   "execution_count": null,
   "id": "df737155",
   "metadata": {
    "ExecuteTime": {
     "start_time": "2022-10-05T04:34:41.952Z"
    }
   },
   "outputs": [],
   "source": [
    "import sqlite3, datetime, time, queue, threading, sys, os, pathlib, json, flask, io \n",
    "import numpy as np, pandas as pd, matplotlib.pyplot as plt \n",
    "from dateutil import tz\n",
    "TZ_NY = tz.gettz('America/New_York')\n",
    "\n",
    "pathlib.Path('log').mkdir(parents=True, exist_ok=True)\n",
    "new_db = f'log/presence.{datetime.datetime.now().astimezone(TZ_NY).strftime(\"%Y%m%d_%H%M%S\")}.db' \n",
    "new_db = 'log/test.db'\n",
    "def database(): \n",
    "    con = sqlite3.connect(new_db)   \n",
    "    cur = con.cursor() \n",
    "    cur.execute('CREATE TABLE IF NOT EXISTS presence (Photoresistor INTEGER, timestamp REAL);')\n",
    "    cur = con.cursor() \n",
    "    while True: \n",
    "        opt, foo = q_in.get() # q.get() = opt_foo\n",
    "        bar = False           # opt is a placeholder \n",
    "        try:\n",
    "            if opt == 'insert':\n",
    "                cur.execute('INSERT INTO presence VALUES (?, ?);', ( foo['A'], time.time(),))  \n",
    "            elif opt == 'sql':\n",
    "                cur.execute(foo)  \n",
    "                bar = cur.fetchall()\n",
    "            elif opt == 'commit': \n",
    "                con.commit() \n",
    "                bar = 'Database commited'\n",
    "                print('Database commited')\n",
    "            elif opt == 'close': \n",
    "                con.commit()\n",
    "                con.close()\n",
    "                bar = 'Database commited and closed'\n",
    "                print('Database commited and closed')\n",
    "        except Exception as e:\n",
    "            print(f'[sql_exception] error: {e}, opt: {opt}, foo: {foo}')\n",
    "            pass\n",
    "        q_out.put(bar) \n",
    "        q_out.join()\n",
    "        q_in.task_done()\n",
    "\n",
    "q_in, q_out = queue.Queue(), queue.Queue() \n",
    "threading.Thread(target=database, name='thread-1', daemon=True).start() \n",
    "\n",
    "def database_operator(opt_foo): \n",
    "    q_in.join()        \n",
    "    q_in.put(opt_foo)  \n",
    "    bar = q_out.get()  \n",
    "    q_out.task_done()   \n",
    "    return bar\n",
    "\n",
    "#sys.path.append('/var/www/py3_mod') \n",
    "app = flask.Flask(__name__)\n",
    "@app.route(\"/\")\n",
    "def index():\n",
    "    return \"FrontPage\"\n",
    "\n",
    "\n",
    "import paho.mqtt.client as mqtt\n",
    "mqtt_client = mqtt.Client() \n",
    "mqtt_client.connect(mqtt_host_ip, 1883, 60)  \n",
    "\n",
    "@app.route('/pirLog', methods=[\"POST\"])\n",
    "def pirLog():  \n",
    "    js = flask.request.json\n",
    "    if js['B']:\n",
    "        database_operator(('insert', js)) \n",
    "        mqtt_client.publish(\"testTopic\", payload=\"Motion Sensor\", qos=0, retain=False)\n",
    "    return \"Hello World\"\n",
    "\n",
    "@app.route('/heartbeat', methods=['GET']) \n",
    "def heartbeat():\n",
    "    database_operator(('commit', None))  \n",
    "    return 'Cheers!' \n",
    "\n",
    "@app.route('/hist', methods=['GET']) \n",
    "def hist():\n",
    "    data = database_operator(('sql', 'select timestamp from presence'))\n",
    "    if data:\n",
    "        fig, ax = plt.subplots(figsize=[6, 6])  \n",
    "        ax.set_xlim(0,24)\n",
    "        ax.set_xticks(range(24))\n",
    "        df = pd.DataFrame(data, columns=['timestamp']) \n",
    "        df['hour'] = df.apply(lambda x: datetime.datetime.fromtimestamp(x['timestamp']).astimezone(TZ_NY).hour, axis=1) \n",
    "        df['hour'].plot(kind='hist', bins=range(24), ax=ax)  \n",
    "        #plt.gca().set_position([0, 0, 1, 1])\n",
    "        bio = io.BytesIO()\n",
    "        plt.savefig(bio,format='svg')\n",
    "        return bio.getvalue().decode()\n",
    "    else:\n",
    "        return \"Hist is not ready\"\n",
    "\n",
    "if __name__ == \"__main__\": \n",
    "    import logging \n",
    "    werkzeug_logger = logging.getLogger('werkzeug')\n",
    "    werkzeug_logger.setLevel(logging.DEBUG)\n",
    "    \n",
    "    logFormatStr = '%(message)s' \n",
    "    formatter = logging.Formatter(logFormatStr,'%m-%d %H:%M:%S')\n",
    "    fileHandler = logging.FileHandler(\"log/WARNING.log\")\n",
    "    fileHandler.setLevel(logging.DEBUG)#WARNING\n",
    "    fileHandler.setFormatter(formatter) \n",
    "    werkzeug_logger.addHandler(fileHandler)\n",
    "    werkzeug_logger.info(\"Logging is set up.\") \n",
    "      \n",
    "    streamHandler = logging.StreamHandler()\n",
    "    streamHandler.setLevel(logging.DEBUG)\n",
    "    streamHandler.setFormatter(formatter)\n",
    "    werkzeug_logger.addHandler(streamHandler)\n",
    "    \n",
    "    app.run(\"0.0.0.0\",5009)  "
   ]
  },
  {
   "cell_type": "code",
   "execution_count": null,
   "id": "3299af3f",
   "metadata": {},
   "outputs": [],
   "source": []
  }
 ],
 "metadata": {
  "kernelspec": {
   "display_name": "Python 3 (ipykernel)",
   "language": "python",
   "name": "python3"
  },
  "language_info": {
   "codemirror_mode": {
    "name": "ipython",
    "version": 3
   },
   "file_extension": ".py",
   "mimetype": "text/x-python",
   "name": "python",
   "nbconvert_exporter": "python",
   "pygments_lexer": "ipython3",
   "version": "3.9.2"
  }
 },
 "nbformat": 4,
 "nbformat_minor": 5
}
