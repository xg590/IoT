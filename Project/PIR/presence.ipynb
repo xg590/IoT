{
 "cells": [
  {
   "cell_type": "markdown",
   "id": "4dd6a188",
   "metadata": {},
   "source": [
    "### D1_mini + Raspberry Pi"
   ]
  },
  {
   "cell_type": "code",
   "execution_count": null,
   "id": "16405078",
   "metadata": {
    "ExecuteTime": {
     "end_time": "2022-09-30T06:23:10.809354Z",
     "start_time": "2022-09-30T06:23:10.800272Z"
    }
   },
   "outputs": [],
   "source": [
    "# pip install flask "
   ]
  },
  {
   "cell_type": "code",
   "execution_count": null,
   "id": "1e02fe16",
   "metadata": {
    "ExecuteTime": {
     "start_time": "2022-09-30T06:23:09.891Z"
    }
   },
   "outputs": [],
   "source": [
    "import sqlite3, datetime, time, queue, threading, sys, os, pathlib, json, flask, io \n",
    "import numpy as np, pandas as pd, matplotlib.pyplot as plt \n",
    "from dateutil import tz\n",
    "TZ_NY = tz.gettz('America/New_York')\n",
    "\n",
    "pathlib.Path('log').mkdir(parents=True, exist_ok=True)\n",
    "new_db = f'log/presence.{datetime.datetime.now().astimezone(TZ_NY).strftime(\"%Y%m%d_%H%M%S\")}.db' \n",
    "new_db = 'log/presence.20220930_010112.db'\n",
    "def database(): \n",
    "    con = sqlite3.connect(new_db)   \n",
    "    cur = con.cursor() \n",
    "    cur.execute('CREATE TABLE IF NOT EXISTS presence (Photoresistor INTEGER, timestamp REAL);')\n",
    "    cur = con.cursor() \n",
    "    while True: \n",
    "        opt, foo = q_in.get() # q.get() = opt_foo\n",
    "        bar = False           # opt is a placeholder \n",
    "        try:\n",
    "            if opt == 'insert':\n",
    "                cur.execute('INSERT INTO presence VALUES (?, ?);', ( foo['A'], time.time(),))  \n",
    "            elif opt == 'sql':\n",
    "                cur.execute(foo)  \n",
    "                bar = cur.fetchall()\n",
    "            elif opt == 'commit': \n",
    "                con.commit() \n",
    "                bar = 'Database commited'\n",
    "                print('Database commited')\n",
    "            elif opt == 'close': \n",
    "                con.commit()\n",
    "                con.close()\n",
    "                bar = 'Database commited and closed'\n",
    "                print('Database commited and closed')\n",
    "        except Exception as e:\n",
    "            print(f'[sql_exception] error: {e}, opt: {opt}, foo: {foo}')\n",
    "            pass\n",
    "        q_out.put(bar) \n",
    "        q_out.join()\n",
    "        q_in.task_done()\n",
    "\n",
    "q_in, q_out = queue.Queue(), queue.Queue() \n",
    "threading.Thread(target=database, name='thread-1', daemon=True).start() \n",
    "\n",
    "def database_operator(opt_foo): \n",
    "    q_in.join()        \n",
    "    q_in.put(opt_foo)  \n",
    "    bar = q_out.get()  \n",
    "    q_out.task_done()   \n",
    "    return bar\n",
    "\n",
    "#sys.path.append('/var/www/py3_mod') \n",
    "app = flask.Flask(__name__)\n",
    "@app.route(\"/\")\n",
    "def index():\n",
    "    return \"FrontPage\"\n",
    "\n",
    "@app.route('/pirLog', methods=[\"POST\"])\n",
    "def pirLog():  \n",
    "    js = flask.request.json\n",
    "    if js['B']:\n",
    "        database_operator(('insert', js)) \n",
    "    return \"Hello World\"\n",
    "\n",
    "@app.route('/heartbeat', methods=['GET']) \n",
    "def heartbeat():\n",
    "    database_operator(('commit', None))  \n",
    "    return 'Cheers!' \n",
    "\n",
    "@app.route('/hist', methods=['GET']) \n",
    "def hist():\n",
    "    data = database_operator(('sql', 'select timestamp from presence'))\n",
    "    if data:\n",
    "        fig, ax = plt.subplots(figsize=[6, 6])  \n",
    "        ax.set_xlim(0,24)\n",
    "        ax.set_xticks(range(24))\n",
    "        df = pd.DataFrame(data, columns=['timestamp']) \n",
    "        df['hour'] = df.apply(lambda x: datetime.datetime.fromtimestamp(x['timestamp']).astimezone(TZ_NY).hour, axis=1) \n",
    "        df['hour'].plot(kind='hist', bins=range(24), ax=ax)  \n",
    "        #plt.gca().set_position([0, 0, 1, 1])\n",
    "        bio = io.BytesIO()\n",
    "        plt.savefig(bio,format='svg')\n",
    "        return bio.getvalue().decode()\n",
    "    else:\n",
    "        return \"Hist is not ready\"\n",
    "\n",
    "if __name__ == \"__main__\": \n",
    "    import logging \n",
    "    werkzeug_logger = logging.getLogger('werkzeug')\n",
    "    werkzeug_logger.setLevel(logging.DEBUG)\n",
    "    \n",
    "    logFormatStr = '%(message)s' \n",
    "    formatter = logging.Formatter(logFormatStr,'%m-%d %H:%M:%S')\n",
    "    fileHandler = logging.FileHandler(\"log/WARNING.log\")\n",
    "    fileHandler.setLevel(logging.WARNING)\n",
    "    fileHandler.setFormatter(formatter) \n",
    "    werkzeug_logger.addHandler(fileHandler)\n",
    "    werkzeug_logger.info(\"Logging is set up.\") \n",
    "      \n",
    "    streamHandler = logging.StreamHandler()\n",
    "    streamHandler.setLevel(logging.DEBUG)\n",
    "    streamHandler.setFormatter(formatter)\n",
    "    werkzeug_logger.addHandler(streamHandler)\n",
    "    \n",
    "    app.run(\"0.0.0.0\",5009)  "
   ]
  }
 ],
 "metadata": {
  "kernelspec": {
   "display_name": "Python 3 (ipykernel)",
   "language": "python",
   "name": "python3"
  },
  "language_info": {
   "codemirror_mode": {
    "name": "ipython",
    "version": 3
   },
   "file_extension": ".py",
   "mimetype": "text/x-python",
   "name": "python",
   "nbconvert_exporter": "python",
   "pygments_lexer": "ipython3",
   "version": "3.9.2"
  }
 },
 "nbformat": 4,
 "nbformat_minor": 5
}
