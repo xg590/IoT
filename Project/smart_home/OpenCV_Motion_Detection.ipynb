{
 "cells": [
  {
   "cell_type": "code",
   "execution_count": null,
   "metadata": {},
   "outputs": [],
   "source": [
    "# pip install opencv-python\n",
    "\n",
    "import cv2, urllib, datetime, numpy as np \n",
    "from IPython.display import clear_output, display\n",
    "from PIL import Image\n",
    "\n",
    "def scale(*t, d='UP'): \n",
    "    if d=='UP':\n",
    "        c = 2\n",
    "    else: \n",
    "        c = 0.5\n",
    "    return *[int(i * c) for i in t],\n",
    "\n",
    "mjpg_url = \n",
    "\n",
    "stream = urllib.request.urlopen(mjpg_url) \n",
    "#stream = urllib.request.urlopen() \n",
    "\n",
    "bytes, firstFrame, CTN = b'', None, True \n",
    "while CTN: \n",
    "    bytes += stream.read(1024)\n",
    "    a = bytes.find(b'\\xff\\xd8')\n",
    "    b = bytes.find(b'\\xff\\xd9') \n",
    "    if a != -1 and b != -1: \n",
    "        jpg = bytes[a:b+2]\n",
    "        bytes = bytes[b+2:] \n",
    "        img = cv2.imdecode(np.frombuffer(jpg, dtype=np.uint8), cv2.IMREAD_UNCHANGED) # 480, 640 \n",
    "        img = img[30:, 80:300] # height width  # Only care about a portion \n",
    "        height, width, depth = img.shape\n",
    "        bgr = cv2.resize(img, scale(width, height, d='Down'))# (width, height)  \n",
    "        grey = cv2.cvtColor(bgr, cv2.COLOR_BGR2GRAY) #  COLOR_BGR2RGB  \n",
    "        blur = cv2.GaussianBlur(grey, (21, 21), 0) \n",
    "        if firstFrame is None: firstFrame = blur \n",
    "        frameDelta = cv2.absdiff(firstFrame, blur)  \n",
    "        thresh = cv2.threshold(frameDelta, 25, 255, cv2.THRESH_BINARY)[1] \n",
    "        thresh = cv2.dilate(thresh, None, iterations=2)\n",
    "        cnts, hierarchy = cv2.findContours(thresh.copy(), cv2.RETR_EXTERNAL, cv2.CHAIN_APPROX_SIMPLE)  \n",
    "        for c in cnts:  \n",
    "            if cv2.contourArea(c) > 300:  # if the contour is too small, ignore it  \n",
    "                (x, y, w, h) = cv2.boundingRect(c)                          # compute the bounding box for the contour\n",
    "                img = cv2.cvtColor(img, cv2.COLOR_BGR2RGB) #  COLOR_BGR2RGB\n",
    "                cv2.rectangle(img, scale(x, y), scale(x + w, y + h), (0, 255, 0), 2) # draw the bounding box on original frame \n",
    "                cv2.putText(img, datetime.datetime.now().strftime(\"%I:%M:%S%p\"), \n",
    "                            scale(x, y-10), cv2.FONT_HERSHEY_SIMPLEX, 0.6, (255, 255, 255), 1)\n",
    "                clear_output(wait=True)  \n",
    "                display(Image.fromarray(img))  \n",
    "                break"
   ]
  }
 ],
 "metadata": {
  "kernelspec": {
   "display_name": "Python 3",
   "language": "python",
   "name": "python3"
  },
  "language_info": {
   "codemirror_mode": {
    "name": "ipython",
    "version": 3
   },
   "file_extension": ".py",
   "mimetype": "text/x-python",
   "name": "python",
   "nbconvert_exporter": "python",
   "pygments_lexer": "ipython3",
   "version": "3.8.5"
  }
 },
 "nbformat": 4,
 "nbformat_minor": 4
}
