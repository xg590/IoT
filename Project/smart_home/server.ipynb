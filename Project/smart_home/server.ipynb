{
 "cells": [
  {
   "cell_type": "code",
   "execution_count": null,
   "metadata": {
    "ExecuteTime": {
     "end_time": "2021-09-10T23:32:41.314725Z",
     "start_time": "2021-09-10T23:32:41.295971Z"
    }
   },
   "outputs": [],
   "source": [
    "# pip install python-kasa flask requests picamera"
   ]
  },
  {
   "cell_type": "code",
   "execution_count": null,
   "metadata": {
    "ExecuteTime": {
     "end_time": "2021-09-10T23:32:41.367962Z",
     "start_time": "2021-09-10T23:32:41.324732Z"
    }
   },
   "outputs": [],
   "source": [
    "'''\n",
    "sudo iptables -t nat -A PREROUTING -p tcp --dport 80 -j REDIRECT --to-ports 8080 \n",
    "sudo iptables -t nat -D PREROUTING -p tcp --dport 80 -j REDIRECT --to-ports 8080\n",
    "''' \n",
    "\n",
    "import json # dhcp-lease-list\n",
    "sec = {'kitchen_bulb_ip':\"192.168.x.x\", \n",
    "       'bedroom_bulb_ip':\"192.168.x.x\",\n",
    "       'bedroom_ac_ip'  :\"192.168.x.x\", \n",
    "       'hub_ip'         :\"192.168.x.x\"} \n",
    "\n",
    "#with open('secret.json','w') as fw: json.dump(sec, fw)"
   ]
  },
  {
   "cell_type": "code",
   "execution_count": null,
   "metadata": {
    "ExecuteTime": {
     "end_time": "2021-09-10T23:32:41.479235Z",
     "start_time": "2021-09-10T23:32:41.378077Z"
    }
   },
   "outputs": [],
   "source": [
    "import sqlite3, datetime, time, queue, threading, sys, os, asyncio, kasa\n",
    "\n",
    "with open('secret.json') as fr: sec = json.load(fr) \n",
    "\n",
    "def initialize_database(): \n",
    "    con = sqlite3.connect(f'SHT40.{datetime.datetime.fromtimestamp(time.time()).strftime(\"%Y-%m-%dT%H:%M:%S\")}.db')  \n",
    "    cur = con.cursor() \n",
    "    cur.execute('CREATE TABLE IF NOT EXISTS log  (Temperature REAL, Humidity REAL, Photoresistor INTEGER, timestamp REAL);')\n",
    "    con.commit() \n",
    "    con.close()\n",
    "    \n",
    "#initialize_database()"
   ]
  },
  {
   "cell_type": "code",
   "execution_count": null,
   "metadata": {
    "ExecuteTime": {
     "end_time": "2021-09-10T23:32:41.534508Z",
     "start_time": "2021-09-10T23:32:41.486187Z"
    }
   },
   "outputs": [],
   "source": [
    "def database(): \n",
    "    con = sqlite3.connect('SHT40.2021-09-08T19:29:27.db')  \n",
    "    cur = con.cursor() \n",
    "    while True: \n",
    "        opt, foo = q_in.get() # q.get() = opt_foo\n",
    "        bar = False           # opt is a placeholder \n",
    "        try:\n",
    "            if opt == 'insert':\n",
    "                cur.execute('INSERT INTO log VALUES (?, ?, ?, ?);', \n",
    "                            (foo['Temperature (C)'], foo['Humidity (% rH)'], foo['Photoresistor'], time.time(),))  \n",
    "            elif opt == 'sql':\n",
    "                cur.execute(foo['sql'])  \n",
    "                bar = cur.fetchall()\n",
    "            elif opt == 'commit': \n",
    "                con.commit() \n",
    "                bar = 'Database commited'\n",
    "                print('Database commited')\n",
    "            elif opt == 'close': \n",
    "                con.commit()\n",
    "                con.close()\n",
    "                bar = 'Database commited and closed'\n",
    "                print('Database commited and closed')\n",
    "        except Exception as e:\n",
    "            print('sql_exception', e, opt, foo)\n",
    "            pass\n",
    "        q_out.put(bar) \n",
    "        q_out.join()\n",
    "        q_in.task_done()\n",
    "\n",
    "q_in, q_out = queue.Queue(), queue.Queue() \n",
    "threading.Thread(target=database, name='thread-1', daemon=True).start() \n",
    "\n",
    "def database_operator(opt_foo): \n",
    "    q_in.join()        \n",
    "    q_in.put(opt_foo)  \n",
    "    bar = q_out.get()  \n",
    "    q_out.task_done()   \n",
    "    return bar"
   ]
  },
  {
   "cell_type": "code",
   "execution_count": null,
   "metadata": {
    "ExecuteTime": {
     "end_time": "2021-09-10T23:32:44.790566Z",
     "start_time": "2021-09-10T23:32:41.545705Z"
    },
    "code_folding": []
   },
   "outputs": [],
   "source": [
    "import dateutil, requests\n",
    "UTC = dateutil.tz.gettz('UTC') \n",
    "class HUB:\n",
    "    def __init__(self, temp_ceil = 28.5, lumi_ceil = 700):\n",
    "        self.ac              = kasa.SmartPlug(sec['bedroom_ac_ip'])  \n",
    "        self.temp_ceil       = temp_ceil\n",
    "        self.bulb            = kasa.SmartBulb(sec['bedroom_bulb_ip'])  \n",
    "        self.night_mode      = False\n",
    "        self.lumi_ceil       = lumi_ceil \n",
    "        threading.Thread(target=self.update).start()  \n",
    "        time.sleep(3) \n",
    "            \n",
    "    def update(self):\n",
    "        lat, lng = (40.7063311, -73.9971931)\n",
    "        date = datetime.datetime.now().strftime('%Y-%m-%d')\n",
    "        while 1:\n",
    "            print('[Daily Sunrise & Sunset Update]')\n",
    "            r = requests.get(f'https://api.sunrise-sunset.org/json?lat={lat}&lng={lng}&date={date}&formatted=0')\n",
    "            if r.json()['status'] != 'OK': raise\n",
    "            self.sunrise_dt = datetime.datetime.fromisoformat(r.json()['results']['sunrise'])\n",
    "            self.sunset_dt  = datetime.datetime.fromisoformat(r.json()['results']['sunset']) \n",
    "            while 1: \n",
    "                if self.sunrise_dt.day != datetime.datetime.now().day: \n",
    "                    print('A New Day Has Come')\n",
    "                    break\n",
    "                asyncio.run(self.ac.update())   \n",
    "                asyncio.run(self.bulb.update())\n",
    "                if datetime.datetime.now().astimezone(UTC) > self.sunrise_dt and \\\n",
    "                   datetime.datetime.now().astimezone(UTC) < self.sunset_dt: # Daylight\n",
    "                    self.night_mode = False \n",
    "                else:                                                        # At night\n",
    "                    self.night_mode = True \n",
    "                time.sleep(60) \n",
    "            break\n",
    "\n",
    "hub = HUB()"
   ]
  },
  {
   "cell_type": "code",
   "execution_count": null,
   "metadata": {
    "ExecuteTime": {
     "start_time": "2021-09-10T23:32:41.272Z"
    },
    "code_folding": []
   },
   "outputs": [],
   "source": [
    "import flask, logging\n",
    "\n",
    "log = logging.getLogger('werkzeug') \n",
    "#log.setLevel(logging.ERROR)\n",
    " \n",
    "index_html_string = '''\n",
    "    <!DOCTYPE html>\n",
    "    <html>\n",
    "      <head>\n",
    "        <meta charset=\"utf-8\">\n",
    "        <title> hub </title>\n",
    "        <style>\n",
    "          #inp {height: 100px; width: 100px}\n",
    "          #sub {height: 400px; width: 400px}\n",
    "        </style>\n",
    "      </head>\n",
    "      <body> \n",
    "        <form method=\"POST\" action=\"/\" enctype=\"multipart/form-data\"> \n",
    "          <table> \n",
    "            <tr>\n",
    "              <td>Max Celsius Degress:</td>\n",
    "              <td><input type=\"text\" name=\"temp_ceil\" value=\"{{hub.temp_ceil}}\" id=\"inp\"/></td>\n",
    "            </tr> \n",
    "            <tr>\n",
    "              <td id=\"inp\">Night Mode:</td> \n",
    "              <td>\n",
    "                <input type=\"radio\" name=\"night_mode\" value=\"1\" {{'checked' if hub.night_mode else ''}} id=\"inp\">\n",
    "                <label>ON</label>\n",
    "                <input type=\"radio\" name=\"night_mode\" value='0' {{'' if hub.night_mode else 'checked'}} id=\"inp\">\n",
    "                <label>OFF</label> \n",
    "              </td> \n",
    "            </tr> \n",
    "          </table>  \n",
    "          <br> <input type=\"submit\" value=\"Submit\">\n",
    "        </form>  \n",
    "      </body>\n",
    "    </html> \n",
    "'''\n",
    "\n",
    "app = flask.Flask(__name__)  \n",
    "\n",
    "@app.route(\"/\", methods=['GET', 'POST'])\n",
    "def index(): \n",
    "    req = flask.request \n",
    "    if req.method == 'GET':\n",
    "        return flask.render_template_string(index_html_string, hub=hub) \n",
    "    elif req.method == 'POST': \n",
    "        hub.temp_ceil = float(req.form['temp_ceil']) \n",
    "        hub.night_mode = int(req.form['night_mode']) \n",
    "        return flask.render_template_string(index_html_string, hub=hub) \n",
    "    \n",
    "@app.route(\"/remote\", methods=['GET'])\n",
    "def remote(): \n",
    "    pin = flask.request.args.get('pin', -1)\n",
    "    if   pin ==  '0' : \n",
    "        d = 'Pin 0'\n",
    "    elif pin ==  '2' :  \n",
    "        d = 'Pin 2'\n",
    "    elif pin ==  '4' :  \n",
    "        d = 'Pin 4'\n",
    "    elif pin ==  '5' :  \n",
    "        d = 'Pin 5'\n",
    "    elif pin == '12' :  \n",
    "        d = 'Pin 12'\n",
    "    elif pin == '13' :  \n",
    "        if hub.ac.is_on:\n",
    "            asyncio.run(hub.ac.turn_off()) \n",
    "            asyncio.run(hub.ac.update())   \n",
    "            d = 'A/C Off' \n",
    "        else:\n",
    "            asyncio.run(hub.ac.turn_on()) \n",
    "            asyncio.run(hub.ac.update())  \n",
    "            d = 'A/C On' \n",
    "    elif pin == '14' : \n",
    "        d = 'Pin 14' \n",
    "    elif pin == '15' : # \n",
    "        if hub.bulb.is_on:\n",
    "            asyncio.run(hub.bulb.turn_off()) \n",
    "            asyncio.run(hub.bulb.update())   \n",
    "            hub.night_mode = False\n",
    "            d = 'LightOff'\n",
    "        else:\n",
    "            asyncio.run(hub.bulb.turn_on()) \n",
    "            asyncio.run(hub.bulb.update())   \n",
    "            hub.night_mode = True\n",
    "            d = 'LightON'\n",
    "    return flask.jsonify({'display':d})\n",
    "    \n",
    "@app.route(\"/log\", methods=['POST'])\n",
    "def log():\n",
    "    T = flask.request.json['Temperature (C)']\n",
    "    P = flask.request.json['Photoresistor']\n",
    "    \n",
    "    if T > hub.temp_ceil and hub.ac.is_on == False: \n",
    "        asyncio.run(hub.ac.turn_on()) \n",
    "        asyncio.run(hub.ac.update())  \n",
    "    elif T < hub.temp_ceil - 1 and hub.ac.is_on == True:\n",
    "        asyncio.run(hub.ac.turn_off()) \n",
    "        asyncio.run(hub.ac.update())  \n",
    "        \n",
    "    if hub.night_mode:\n",
    "        if P > hub.lumi_ceil and hub.bulb.is_on: \n",
    "            asyncio.run(hub.bulb.turn_off()) \n",
    "            asyncio.run(hub.bulb.update())\n",
    "        else:\n",
    "            asyncio.run(hub.bulb.turn_on()) \n",
    "            asyncio.run(hub.bulb.update()) \n",
    "        \n",
    "    database_operator(('insert', flask.request.json)) \n",
    "    return '' \n",
    "\n",
    "@app.route(\"/sql\", methods=['POST'])\n",
    "def sql():  \n",
    "    return {'result':database_operator(('sql', flask.request.json)).__repr__() }\n",
    "\n",
    "@app.route('/heartbeat', methods=['GET']) \n",
    "def heartbeat():\n",
    "    database_operator(('commit', None))  \n",
    "    return 'Cheers!'\n",
    "\n",
    "print(\"http://localhost:8080/\")\n",
    "app.run(sec['hub_ip'],'8080') \n",
    "# database_operator(('sql', {'sql':'select * from log'})) "
   ]
  },
  {
   "cell_type": "code",
   "execution_count": null,
   "metadata": {
    "ExecuteTime": {
     "start_time": "2021-09-10T23:32:41.275Z"
    }
   },
   "outputs": [],
   "source": [
    "database_operator(('commit', ''))"
   ]
  },
  {
   "cell_type": "code",
   "execution_count": null,
   "metadata": {
    "ExecuteTime": {
     "start_time": "2021-09-10T23:32:41.277Z"
    }
   },
   "outputs": [],
   "source": [
    "#!jupyter nbconvert --to script hub.ipynb"
   ]
  },
  {
   "cell_type": "code",
   "execution_count": null,
   "metadata": {},
   "outputs": [],
   "source": []
  }
 ],
 "metadata": {
  "kernelspec": {
   "display_name": "Python 3 (ipykernel)",
   "language": "python",
   "name": "python3"
  },
  "language_info": {
   "codemirror_mode": {
    "name": "ipython",
    "version": 3
   },
   "file_extension": ".py",
   "mimetype": "text/x-python",
   "name": "python",
   "nbconvert_exporter": "python",
   "pygments_lexer": "ipython3",
   "version": "3.7.3"
  }
 },
 "nbformat": 4,
 "nbformat_minor": 4
}
