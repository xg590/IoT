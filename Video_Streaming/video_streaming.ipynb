{
 "cells": [
  {
   "cell_type": "code",
   "execution_count": null,
   "metadata": {
    "ExecuteTime": {
     "end_time": "2020-10-10T07:27:48.355988Z",
     "start_time": "2020-10-10T07:27:42.810675Z"
    }
   },
   "outputs": [],
   "source": [
    "import cv2, threading \n",
    "class VIDEO():# image cache\n",
    "    def __init__(self): \n",
    "        self.condition = threading.Condition() \n",
    "        self.frame = b''\n",
    "        self.cap = cv2.VideoCapture(\"tcp://127.0.0.1:2222\")  \n",
    "        \n",
    "    def updater(self):   \n",
    "        while(self.cap.isOpened()):   \n",
    "            with self.condition:\n",
    "                ret, frame = self.cap.read() \n",
    "                ret, jpeg  = cv2.imencode('.jpg', frame)\n",
    "                self.frame = jpeg.tobytes()\n",
    "                self.condition.notify_all() \n",
    "video = VIDEO()\n",
    "video_link_thread = threading.Thread(target=video.updater)\n",
    "video_link_thread.start() "
   ]
  },
  {
   "cell_type": "code",
   "execution_count": null,
   "metadata": {
    "ExecuteTime": {
     "end_time": "2020-10-10T07:27:48.355988Z",
     "start_time": "2020-10-10T07:27:42.810675Z"
    }
   },
   "outputs": [],
   "source": [
    "import flask \n",
    "app = flask.Flask(__name__)\n",
    "print('Click Here: http://127.0.0.1:9999/stream.mjpg\\n\\n\\n')\n",
    "@app.route(\"/stream.mjpg\") \n",
    "def mjpg():  \n",
    "    def generator():    \n",
    "        while True:   \n",
    "            with video.condition:\n",
    "                video.condition.wait()\n",
    "                frame = video.frame  \n",
    "            yield f'''--FRAME\\r\\nContent-Type: image/jpeg\\r\\nContent-Length: {len(frame)}\\r\\n\\r\\n'''.encode() \n",
    "            yield frame\n",
    "    r = flask.Response(response=generator(), status=200)\n",
    "    r.headers.extend({'Age':0, 'Content-Type':'multipart/x-mixed-replace; boundary=FRAME',\n",
    "                      'Pragma':'no-cache', 'Cache-Control':'no-cache, private',}) \n",
    "    return r\n",
    "\n",
    "@app.route('/')\n",
    "def hello_world():\n",
    "    return 'Hello, World!'\n",
    "\n",
    "app.run('127.0.0.1', 9999)"
   ]
  }
 ],
 "metadata": {
  "kernelspec": {
   "display_name": "Python 3",
   "language": "python",
   "name": "python3"
  },
  "language_info": {
   "codemirror_mode": {
    "name": "ipython",
    "version": 3
   },
   "file_extension": ".py",
   "mimetype": "text/x-python",
   "name": "python",
   "nbconvert_exporter": "python",
   "pygments_lexer": "ipython3",
   "version": "3.8.2"
  }
 },
 "nbformat": 4,
 "nbformat_minor": 4
}
