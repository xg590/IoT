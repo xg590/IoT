{
 "cells": [
  {
   "cell_type": "code",
   "execution_count": null,
   "metadata": {},
   "outputs": [],
   "source": [
    "pip install Flask opencv-python==4.2.0.34\n",
    "export DISPLAY=:0 && xdpyinfo | grep dimensions\n",
    "ffmpeg -f x11grab -i :0.0 -framerate 25 -video_size 1024x768 -listen 1 -f mpegts tcp://192.168.56.101:54321 # https://ffmpeg.org/ffmpeg-protocols.html#toc-http\n",
    "ssh -R 12345:192.168.56.101:54321 iMac"
   ]
  },
  {
   "cell_type": "code",
   "execution_count": null,
   "metadata": {
    "ExecuteTime": {
     "end_time": "2020-10-26T17:57:21.541136Z",
     "start_time": "2020-10-26T17:57:21.347309Z"
    }
   },
   "outputs": [],
   "source": [
    "import socket\n",
    "import threading \n",
    "import cv2 \n",
    "import time\n",
    "\n",
    "class VIDEO:          \n",
    "    def __init__(self):\n",
    "        self.void_frame = b''  \n",
    "        self.jpeg_frame = self.void_frame \n",
    "        threading.Thread(target=self.opencv , daemon=True).start()    \n",
    "\n",
    "    def opencv(self):  \n",
    "        while True:\n",
    "            cap = cv2.VideoCapture(\"tcp://localhost:12345\")  \n",
    "            while(cap.isOpened()): \n",
    "                ret, frame = cap.read()  \n",
    "                if not ret: \n",
    "                    print('[ Error ] Please check if your source is off~')\n",
    "                    break   \n",
    "                ret, jpeg = cv2.imencode('.jpg', frame)\n",
    "                self.jpeg_frame = jpeg.tobytes()\n",
    "            cap.release()\n",
    "            print('[ Warning ] OpenCV lost connection to source!')\n",
    "            print('[ Warning ] Try reconnection in 3 seconds~')\n",
    "            time.sleep(3)         \n",
    "\n",
    "video = VIDEO()  "
   ]
  },
  {
   "cell_type": "code",
   "execution_count": null,
   "metadata": {
    "ExecuteTime": {
     "start_time": "2020-10-26T17:57:31.688Z"
    }
   },
   "outputs": [],
   "source": [
    "import flask  \n",
    "\n",
    "app = flask.Flask(__name__) \n",
    "fps=25\n",
    "interval = 1/fps\n",
    "@app.route(\"/stream.mjpg\") \n",
    "def mjpg():  \n",
    "    def generator():      \n",
    "        while True:     \n",
    "            time.sleep(interval)  # threading.condition is too shitty according to my test. no condition no lag. \n",
    "            frame = video.jpeg_frame \n",
    "            yield f'''--FRAME\\r\\nContent-Type: image/jpeg\\r\\nContent-Length: {len(frame)}\\r\\n\\r\\n'''.encode() \n",
    "            yield frame\n",
    "    r = flask.Response(response=generator(), status=200)\n",
    "    r.headers.extend({'Age':0, 'Content-Type':'multipart/x-mixed-replace; boundary=FRAME',\n",
    "                      'Pragma':'no-cache', 'Cache-Control':'no-cache, private',}) \n",
    "    return r\n",
    "\n",
    "@app.route('/')\n",
    "def index():\n",
    "    return flask.redirect(flask.url_for('stream.mjpg'))\n",
    "\n",
    "app.run('0.0.0.0', 9999)"
   ]
  }
 ],
 "metadata": {
  "kernelspec": {
   "display_name": "Python 3",
   "language": "python",
   "name": "python3"
  },
  "language_info": {
   "codemirror_mode": {
    "name": "ipython",
    "version": 3
   },
   "file_extension": ".py",
   "mimetype": "text/x-python",
   "name": "python",
   "nbconvert_exporter": "python",
   "pygments_lexer": "ipython3",
   "version": "3.7.3"
  }
 },
 "nbformat": 4,
 "nbformat_minor": 4
}
