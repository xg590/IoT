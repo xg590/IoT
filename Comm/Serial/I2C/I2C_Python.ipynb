{
 "cells": [
  {
   "cell_type": "code",
   "execution_count": 1,
   "id": "42322e15",
   "metadata": {},
   "outputs": [
    {
     "name": "stdout",
     "output_type": "stream",
     "text": [
      "Looking in indexes: https://pypi.org/simple, https://www.piwheels.org/simple\n",
      "Requirement already satisfied: smbus2 in /home/pi/jupyter/lib/python3.9/site-packages (0.4.2)\n",
      "Note: you may need to restart the kernel to use updated packages.\n"
     ]
    }
   ],
   "source": [
    "pip install smbus2"
   ]
  },
  {
   "cell_type": "code",
   "execution_count": 2,
   "id": "fe61d94c",
   "metadata": {},
   "outputs": [
    {
     "name": "stdout",
     "output_type": "stream",
     "text": [
      "myCred\n"
     ]
    }
   ],
   "source": [
    "from smbus2 import SMBus\n",
    "\n",
    "with SMBus(1) as bus:\n",
    "    bus.write_byte(0x34,ord(b'l'))\n",
    "    l = bus.read_byte_data(0x34,1)\n",
    "    bus.write_byte(0x34,ord(b's'))\n",
    "    # Read a block of 16 bytes from address 80, offset 0\n",
    "    block = bus.read_i2c_block_data(0x34, 0, l) \n",
    "    print(''.join([chr(i) for i in block]))"
   ]
  }
 ],
 "metadata": {
  "kernelspec": {
   "display_name": "Python 3 (ipykernel)",
   "language": "python",
   "name": "python3"
  },
  "language_info": {
   "codemirror_mode": {
    "name": "ipython",
    "version": 3
   },
   "file_extension": ".py",
   "mimetype": "text/x-python",
   "name": "python",
   "nbconvert_exporter": "python",
   "pygments_lexer": "ipython3",
   "version": "3.9.2"
  }
 },
 "nbformat": 4,
 "nbformat_minor": 5
}
