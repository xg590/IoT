{
 "cells": [
  {
   "cell_type": "code",
   "execution_count": 1,
   "metadata": {
    "ExecuteTime": {
     "end_time": "2021-06-24T15:00:39.499125Z",
     "start_time": "2021-06-24T15:00:39.470245Z"
    }
   },
   "outputs": [
    {
     "data": {
      "text/plain": [
       "b'+OK\\r\\n'"
      ]
     },
     "execution_count": 1,
     "metadata": {},
     "output_type": "execute_result"
    }
   ],
   "source": [
    "import serial, time\n",
    "ser = serial.Serial('/dev/ttyUSB1',baudrate=115200, timeout=None)\n",
    "ser.write('AT+CPIN=FABC0002EEDCAA90FABC0002EEDCAA90\\r\\n'.encode())\n",
    "ser.readline()"
   ]
  },
  {
   "cell_type": "code",
   "execution_count": 9,
   "metadata": {
    "ExecuteTime": {
     "end_time": "2021-06-24T23:03:27.327901Z",
     "start_time": "2021-06-24T21:52:20.325511Z"
    }
   },
   "outputs": [
    {
     "name": "stdout",
     "output_type": "stream",
     "text": [
      "b\"+RCV=0,76,{'#':1,'Sat':7,'Lat':40.647725,'Lng':-74.010402,'TS':'2021-06-24T21:53:04Z'},-44,40\\r\\n\"\n",
      "b'+RCV=0,0,,-64,32\\r\\n'\n",
      "b\"+RCV=0,77,'Ln\\xce'r=74.\\x9810387,'TCg:'202a-06-24\\xa421:54:`5\\xda'}\\x00\\n\"\n",
      "b'\\x00\\x00\\x00\\x00\\x00\\x00\\x00\\x00\\x00\\x00\\x00\\x00\\x00\\x00\\x00\\x00\\x00\\x00\\x00\\x00\\x00\\x00\\x00\\x00\\x00\\x00\\x00\\x00\\x00\\x00,-50,42\\r\\n'\n",
      "b\"+RCV=0,76,{'#':2,'Sat':9,'Lat':40.647741,'Lng':-74.010380,'TS':'2021-06-24T21:54:18Z'},-47,37\\r\\n\"\n",
      "b\"+RCV=0,76,{'#':2,'Sat':6,'Lat':40.647732,'Lng':-74.010387,'TS':'2021-06-24T21:54:34Z'},-48,42\\r\\n\"\n",
      "b'+RCV=0,0,,-68,34\\r\\n'\n",
      "b\"+RCV=0,77,{g#':1g,G\\x13at\\x12\\xa7\\x13\\xe9b\\x85\\xd0\\x9d:40.6467f7,'Lng'z-74.010317,ODS':\\x92\\x82\\x92\\x8aj\\x80\\xb2\\xca\\x92\\xa2\\xa2\\xc91:i5:23Z'\\xf9\\x00\\n\"\n",
      "b',-38,61\\r\\n'\n",
      "b\"+RCV=0,77,{'#':19,'Sat':6,'Lat':40.647795,'Lng':-74.010268,'TS':'2021-06-24T21:55:50Z'},-45,49\\r\\n\"\n",
      "b\"+RCV=0,77,{'#':20,'Sat':5,'Lat':40.647789,'Lng':-74.010301,'TS':'2021-06-24T21:55:57Z'},-44,44\\r\\n\"\n",
      "b\"+RCV=0,77,{'#':36,'Sat':6,'Lat':40.647931,'Lng':-74.010057,'TS':'2021-06-24T21:57:05Z'},-44,54\\r\\n\"\n",
      "b\"+RCV=0,77,{'#':37,'Sat':7,'Lat':40.647959,'Lng':-74.010004,'TS':'2021-06-24T21:57:12Z'},-40,49\\r\\n\"\n",
      "b\"+RCV=0,76,{'#':1,'Sat':9,'Lat':40.647803,'Lng':-74.010275,'TS':'2021-06-24T21:57:46Z'},-43,42\\r\\n\"\n",
      "b\"+RCV=0,78,{'#':26,'Sat':10,'Lat':40.647812,'Lng':-74.010369,'TS':'2021-06-24T21:59:30Z'},-48,43\\r\\n\"\n",
      "b\"+RCV=0,77,{'#':39l'Sat':7,'La\\xe4\\x07:40.64w795,'Lng':-?4.0103e8,'T\\xa6'r'2021[06m24T22:00:26Z'\\xfd,-43,54\\r\\n\"\n",
      "b\"+RCV=0,77,{'#':44,'Sat':7,'Lat':40.647768,'Lng':-74.010442,'TS':'2021-06-24T22:00:49Z'},-44,57\\r\\n\"\n",
      "b\"+RCV=0,77,{'#':71,'Sat':6,'Lat':40.647795,'Lng':-74.010290,'TS':'2021-06-24T22:02:41Z'},-44,47\\r\\n\"\n",
      "b\"+RCV=0,77,{'#':72,'Sat':6,'Lat':40.647798,'Lng':-74.010295,'TS':'2021-06-24T22:02:48Z'},-44,49\\r\\n\"\n",
      "b\"+RCV=0,77,{'#':91,'Sat':9,'Lat':40.647723,'Lng':-74.010376,'TS':'2021-06-24T22:04:08Z'},-46,56\\r\\n\"\n",
      "b\"+RCV=0,79,{'#':124,'Sat':10,'Lat':40.647779,'Lng':-74.010380,'TS':'2021-06-24T22:06:24Z'},-44,47\\r\\n\"\n",
      "b\"+RCV=0,77,{'#':5,'Sat':10,'Lat':40.647776,'Lng':-74.010244,'TS':'2021-06-24T22:09:19Z'},-44,47\\r\\n\"\n",
      "b\"+RCV=0,77,{'#':7,'Sat':10,'Lat':40.647771,'Lng':-74.010252N\\xf5;\\x97\\x07u\\xfacEp]mn\\x92\\xe9\\x97T22:09:28Z'}\\x00,-34,44\\r\\n\"\n",
      "b\"+RCV=0,77,{'#':9,'Sat':10,'Lat':40.647768,'Lng':-74.010261,'TS':'2021-06-24T22:09:30Z'},-45,38\\r\\n\"\n",
      "b\"+RCV=0,78,{'#':10,'Sat':11,'Lat':40.647763,'Lng':-74.01027\\xd7\\x19\\xbe\\xa6\\xda\\x1f\\xe6\\xe1\\xc1$Y8\\x7fmGG24T22:09:39Z'},-34,37\\r\\n\"\n",
      "b\"+RCV=0,78,{'#':13,'Sat':10,'Lat':40.647756,'Lng':-74.01029rJ\\xc0\\xb9_9\\xdaE_\\xe0\\xa6\\x17`\\xd0\\xc9\\x8b4T22:09:47Z'}\\x00,-33,47\\r\\n\"\n",
      "b\"+RCV=0,78,{'#':15,'Sat':10,'Lat':40.647749,'Lng':-74.010311,'TS':'2021-06-24T22:09:49Z'},-43,47\\r\\n\"\n",
      "b\"+RCV=0,78,{g#':06,g\\xd3atN:11,'La\\xe8/:40.647w37,NLng':-7h.010338,g\\xd4S':'b021-06-24T22:09:56ZO},-43,35\\r\\n\"\n",
      "b\"+RCV=0,78,{'#':20,'Sat':10,'Lat':40.647727,'Lng':-74.01032\\xc3\\xf7b\\xe0\\x9b\\xb5k[\\xbf\\xc9c1\\xdf-\\xe8\\xcf24T22:10:13Z'},-33,46\\r\\n\"\n",
      "b\"+RCV=0,78,{'#':22,'Sat':10,'Lat':40.647732,'Lng':-74.010313,'TS':'2021-06-24T22:10:15Z'},-43,46\\r\\n\"\n",
      "b\"+RCV=0,78,\\xf7'Cg:30,'Sat':1a,'Lat':t0.647784,'Lng':-74.010281LgTS'z'2021-0f\\r24T22:10:j0Z'\\xfd,-43,43\\r\\n\"\n",
      "b\"+RCV=0,78,{'#':32,'Sat':11,'Lat':40.647782,'Lng':-74.01027S\\xc6^J\\xb3\\n\"\n",
      "b\"\\xa4\\\\\\x1a\\xb1\\x88\\x94I\\xbdW524T22:10:59Z'},-33,45\\r\\n\"\n",
      "b\"+RCV=0,78,{'#':34,'Sat':11,'Lat':40.647779,'Lng':-74.010276,'TS':'2021-06-24T22:11:01Z'},-44,44\\r\\n\"\n",
      "b\"+RCV=0,78,{'#':35,'Sat':11,'Lat':40.647759,'Lng':-74.01029\\xd2\\x01\\xe6\\xe4\\xb2\\xdf9\\x94\\x1ePU\\x9e\\xe4\\xafr\\xaf24T22:11:10Z'},-33,39\\r\\n\"\n",
      "b'+RCV=0,0,,-65,33\\r\\n'\n",
      "b\"+RCV=0,76,{'#':1,'Sat':7,'Lat':40.647711,'Lng':-74.010406,'TS':'2021-06-24T22:13:30Z'},-34,39\\r\\n\"\n",
      "b\"+RCV=0,76,{'#':3,'Sat':7,'Lat':40.647715,'Lng':-74.010403,'TS':'2021-06-24T22:13:32Z'},-43,41\\r\\n\"\n",
      "b\"+RCV=0,77,+\\x0b?\\xa2]o\\xc2\\x12\\x84\\xb7m\\x16,\\xd2F\\xe8'Lat':40.647751,'Lng':-74.010321,'TS':'2021-06-24T22:14:15Z'},-40,45\\r\\n\"\n",
      "b\"+RCV=0,7,\\xfb'#'z1L,-43,37\\r\\n\"\n",
      "b\"+RCV=0,76,{'#':2,'Sat':9,'Lat':40.647691,'Lng':-74.010330,'TS':'2021-06-24T22:15:07Z'},-42,45\\r\\n\"\n",
      "b\"+RCV=0,76,{'#':5,'Sat':7,'Lat':40.647672,'Lng':-74.010345,'TS':'2021-06-24T22:15:25Z'},-43,45\\r\\n\"\n",
      "b\"+RCV=0,76,{'#':6,'Sat':8,'Lat':40.647641,'Lng':-74.010367,'TS':'2021-06-24T22:15:31Z'},-43,45\\r\\n\"\n",
      "b\"+RCV=0,76,{'#':8,'Sat':7,'Lat':40.647633,'Lng':-74.010336,'TS':'2021-06-24T22:15:43Z'},-44,45\\r\\n\"\n",
      "b\"+RCV=0,67,'Sat':8,'L\\xc3p':40\\x97647635,'\\\\ng':-74.`10218,'\\x94S':'f021-06-24T22:a6:32Z,-42,42\\r\\n\"\n",
      "b\"+RCV=0,7,'Sap'z9,-44,36\\r\\n\"\n",
      "b\"+RCV=0,77,{'#':36,'Sat':9,'Lat':40.647656,'Lng':-74.010363,'TS':'2021-06-24T22:18:33Z'},-43,35\\r\\n\"\n",
      "b\"+RCV=0,78,{'#':38,'Sat':10,'Lat':40.647690,'Lng':-74.010346,'TS':'2021-06-24T22:18:45Z'},-43,45\\r\\n\"\n",
      "b\"+RCV=0,78,{'#':40,'Sat':10,'Lat':40.647714,'Lng':-74.010336,'TS':'2021-06-24T22:18:57Z'},-43,50\\r\\n\"\n",
      "b\"+RCV=0,78,{'#':41,'Sat':10,'Lat':40.647713,'Lng':-74.010340,'TS':'2021-06-24T22:19:03Z'},-43,43\\r\\n\"\n",
      "b\"+RCV=0,78,{'#':42,'Sat':10,'Lat':40.647711,'Lng':-74.010340,'TS':'2021-06-24T22:19:09Z'},-44,39\\r\\n\"\n",
      "b\"+RCV=0,78,{'#':43,'Sat':10,'Lat':40.647710,'Lng':-74.010334,'TS':'2021-06-24T22:19:15Z'},-42,45\\r\\n\"\n",
      "b\"+RCV=0,77,{'#':44,'Sat':9,'Lat':40.647710,'Lng':-74.010319,'TS':'2021-06-24T22:19:21Z'},-44,52\\r\\n\"\n",
      "b\"+RCV=0,78,{'#':45,'Sat':10,'Lat':40.647686,'Lng':-74.010293,'TS':'2021-06-24T22:19:27Z'},-46,52\\r\\n\"\n",
      "b\"+RCV=0,78,{'#':46,'Sat':10,'Lat':40.647671,'Lng':-74.010267,'TS':'2021-06-24T22:19:33Z'},-44,49\\r\\n\"\n",
      "b\"+RCV=0,78,{'#':47,'Sat':10,'Lat':40.647679,'Lng':-74.010268,'TS':'2021-06-24T22:19:39Z'},-44,58\\r\\n\"\n",
      "b\"+RCV=0,78,{'#':48,'Sat':10,'Lat':40.647677,'Lng':-74.010266,'TS':'2021-06-24T22:19:45Z'},-43,45\\r\\n\"\n",
      "b\"+RCV=0,77,{'#':49,'Sat':9,'Lat':40.647661,'Lng':-74.010273,'TS':'2021-06-24T22:19:51Z'},-44,44\\r\\n\"\n",
      "b\"+RCV=0,78,{'#':6d\\x0c'Sat':10,NLat':40.6t7633,'LngN:-74.010047,'T\\xa7':'2021]06-24T22:21t2bz'},-38,56\\r\\n\"\n",
      "b'+RCV=0,0,,-62,42\\r\\n'\n",
      "b\"+RCV=0,78,{'#':69,'Sat':11,'Lat':40.647521,'Lng':-74.010068,'TS':'2021-06-24T22:21:52Z'},-42,40\\r\\n\"\n",
      "b\"+RCV=0,78,\\x12*\\xd1\\x9d:40.v47552,'\\x8c\\xeeg':,74n010025l'TSN8'2021-06-24Tr2:22:29Zg\\xfd\\x00\\n\"\n",
      "b'\\x16\\n'\n",
      "b'\\x00\\x00\\x00\\x00\\x00\\x00\\x00\\x00\\x00\\x00\\x00\\x00\\x00\\x00,-43,43\\r\\n'\n",
      "b\"+RCV=0,77,{'#'z12,NSat':8,'Lat':40.64761f\\x0c'Lng'\\x9d-o4n010205l'TS'v/2021-0f\\r24T2f228:34\\xb6'},-40,43\\r\\n\"\n",
      "b\"+RCV=0,77,{'#':15,'SatO:8,'\\xa6\\xc3p':40.l4g624,'L\\xdeg':-?4.0101g5,'T\\xa6'r'2021[0f\\r24T22:28:5fR'},-36,41\\r\\n\"\n",
      "b\"+RCV=0,76,{'#':7,'Sat':8,'Lat':40.647527,'Lng':-74.010173,'TS':'2021-06-24T22:29:59Z'},-38,46\\r\\n\"\n",
      "b'+RCV=0,76,p\\xe21\\xc8bs\\x87\\xe2L\\x99NO\\xd8I\\xa4\\xcd\\xce\\xe4!\\x99\\xee\\x91\\x80k\\x97~wq\\x08|\\x01\\xe9\\xd4\\xfb|\\xfe\\x1b\\x00\\xb1\\xdb\\x11\\x93C\\xdeF\\x0b\\x0e!\"\\xfc\\x80\\xbf\\tE\\xa4Y\\xff\\xc7z#\\x17&\\xa6Y\\xbfn\\xe7\\xf1\\x19\\x99\\x9f&\\xf5\\x95\\x8b\\x15,-36,37\\r\\n'\n"
     ]
    },
    {
     "ename": "SerialException",
     "evalue": "device reports readiness to read but returned no data (device disconnected or multiple access on port?)",
     "output_type": "error",
     "traceback": [
      "\u001b[0;31m---------------------------------------------------------------------------\u001b[0m",
      "\u001b[0;31mSerialException\u001b[0m                           Traceback (most recent call last)",
      "\u001b[0;32m<ipython-input-9-e9b7697d1626>\u001b[0m in \u001b[0;36m<module>\u001b[0;34m\u001b[0m\n\u001b[1;32m      1\u001b[0m \u001b[0;32mwhile\u001b[0m \u001b[0;36m1\u001b[0m\u001b[0;34m:\u001b[0m\u001b[0;34m\u001b[0m\u001b[0m\n\u001b[0;32m----> 2\u001b[0;31m     \u001b[0mr\u001b[0m \u001b[0;34m=\u001b[0m \u001b[0mser\u001b[0m\u001b[0;34m.\u001b[0m\u001b[0mreadline\u001b[0m\u001b[0;34m(\u001b[0m\u001b[0;34m)\u001b[0m\u001b[0;34m\u001b[0m\u001b[0m\n\u001b[0m\u001b[1;32m      3\u001b[0m     \u001b[0;32mif\u001b[0m \u001b[0;32mnot\u001b[0m \u001b[0mr\u001b[0m\u001b[0;34m:\u001b[0m \u001b[0;32mbreak\u001b[0m\u001b[0;34m\u001b[0m\u001b[0m\n\u001b[1;32m      4\u001b[0m     \u001b[0mprint\u001b[0m\u001b[0;34m(\u001b[0m\u001b[0mr\u001b[0m\u001b[0;34m)\u001b[0m\u001b[0;34m\u001b[0m\u001b[0m\n",
      "\u001b[0;32m~/software/miniconda3/envs/rdkit_2019/lib/python3.6/site-packages/serial/serialposix.py\u001b[0m in \u001b[0;36mread\u001b[0;34m(self, size)\u001b[0m\n\u001b[1;32m    594\u001b[0m                     \u001b[0;31m# but reading returns nothing.\u001b[0m\u001b[0;34m\u001b[0m\u001b[0;34m\u001b[0m\u001b[0m\n\u001b[1;32m    595\u001b[0m                     raise SerialException(\n\u001b[0;32m--> 596\u001b[0;31m                         \u001b[0;34m'device reports readiness to read but returned no data '\u001b[0m\u001b[0;34m\u001b[0m\u001b[0m\n\u001b[0m\u001b[1;32m    597\u001b[0m                         '(device disconnected or multiple access on port?)')\n\u001b[1;32m    598\u001b[0m                 \u001b[0mread\u001b[0m\u001b[0;34m.\u001b[0m\u001b[0mextend\u001b[0m\u001b[0;34m(\u001b[0m\u001b[0mbuf\u001b[0m\u001b[0;34m)\u001b[0m\u001b[0;34m\u001b[0m\u001b[0m\n",
      "\u001b[0;31mSerialException\u001b[0m: device reports readiness to read but returned no data (device disconnected or multiple access on port?)"
     ]
    }
   ],
   "source": [
    "while 1:\n",
    "    r = ser.readline()\n",
    "    if not r: break\n",
    "    print(r)  "
   ]
  },
  {
   "cell_type": "code",
   "execution_count": 8,
   "metadata": {
    "ExecuteTime": {
     "end_time": "2021-06-24T21:51:58.718163Z",
     "start_time": "2021-06-24T21:51:58.711376Z"
    }
   },
   "outputs": [
    {
     "data": {
      "text/plain": [
       "78"
      ]
     },
     "execution_count": 8,
     "metadata": {},
     "output_type": "execute_result"
    }
   ],
   "source": [
    "len(\"{'#':14,'Sat':10,'Lat':40.647822,'Lng':-74.010276,'TS':'2021-06-24T21:51:43Z'}\")\n"
   ]
  }
 ],
 "metadata": {
  "kernelspec": {
   "display_name": "Python 3",
   "language": "python",
   "name": "python3"
  },
  "language_info": {
   "codemirror_mode": {
    "name": "ipython",
    "version": 3
   },
   "file_extension": ".py",
   "mimetype": "text/x-python",
   "name": "python",
   "nbconvert_exporter": "python",
   "pygments_lexer": "ipython3",
   "version": "3.6.5"
  }
 },
 "nbformat": 4,
 "nbformat_minor": 4
}
