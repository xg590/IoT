{
 "cells": [
  {
   "cell_type": "code",
   "execution_count": 1,
   "metadata": {},
   "outputs": [
    {
     "data": {
      "text/plain": [
       "b'+OK\\r\\n'"
      ]
     },
     "execution_count": 1,
     "metadata": {},
     "output_type": "execute_result"
    }
   ],
   "source": [
    "import serial, time\n",
    "ser = serial.Serial('/dev/ttyUSB1',baudrate=115200, timeout=None)\n",
    "ser.write('AT+CPIN=FABC0002EEDCAA90FABC0002EEDCAA90\\r\\n'.encode())\n",
    "ser.readline()"
   ]
  },
  {
   "cell_type": "code",
   "execution_count": null,
   "metadata": {},
   "outputs": [
    {
     "name": "stdout",
     "output_type": "stream",
     "text": [
      "b'+RCV=0,12,Hello World!,-36,31\\r\\n'\n"
     ]
    }
   ],
   "source": [
    "while 1:\n",
    "    r = ser.readline()\n",
    "    if not r: break\n",
    "    print(r)  "
   ]
  }
 ],
 "metadata": {
  "kernelspec": {
   "display_name": "Python 3",
   "language": "python",
   "name": "python3"
  },
  "language_info": {
   "codemirror_mode": {
    "name": "ipython",
    "version": 3
   },
   "file_extension": ".py",
   "mimetype": "text/x-python",
   "name": "python",
   "nbconvert_exporter": "python",
   "pygments_lexer": "ipython3",
   "version": "3.6.5"
  }
 },
 "nbformat": 4,
 "nbformat_minor": 4
}
