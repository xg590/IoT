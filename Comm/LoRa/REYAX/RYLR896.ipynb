{
 "cells": [
  {
   "cell_type": "code",
   "execution_count": 5,
   "metadata": {},
   "outputs": [],
   "source": [
    "import serial, time\n",
    "ser = serial.Serial('/dev/ttyUSB0',baudrate=115200, timeout=3)\n",
    "\n",
    "def rylr896(cmd):\n",
    "    ser.write(cmd.encode()) \n",
    "    while 1:\n",
    "        r = ser.readline()\n",
    "        if not r: break\n",
    "        print(r) "
   ]
  },
  {
   "cell_type": "code",
   "execution_count": 6,
   "metadata": {},
   "outputs": [
    {
     "name": "stdout",
     "output_type": "stream",
     "text": [
      "b'+MODE=0\\r\\n'\n"
     ]
    }
   ],
   "source": [
    "rylr896('AT+MODE?\\r\\n') # What is the current working mode. MODE=0 is standby and 1 is sleep"
   ]
  },
  {
   "cell_type": "code",
   "execution_count": 7,
   "metadata": {},
   "outputs": [
    {
     "name": "stdout",
     "output_type": "stream",
     "text": [
      "b'+OK\\r\\n'\n",
      "b'\\x00'\n"
     ]
    }
   ],
   "source": [
    "rylr896('AT+MODE=1\\r\\n') # put it into sleep"
   ]
  },
  {
   "cell_type": "code",
   "execution_count": 8,
   "metadata": {},
   "outputs": [
    {
     "name": "stdout",
     "output_type": "stream",
     "text": [
      "b'\\x00+READY\\r\\n'\n"
     ]
    }
   ],
   "source": [
    "rylr896('AT+MODE?\\r\\n') # ready means sleep"
   ]
  },
  {
   "cell_type": "code",
   "execution_count": 9,
   "metadata": {},
   "outputs": [
    {
     "name": "stdout",
     "output_type": "stream",
     "text": [
      "b'+OK\\r\\n'\n",
      "b'+MODE=0\\r\\n'\n"
     ]
    }
   ],
   "source": [
    "rylr896('AT+MODE=0\\r\\n') # wake up the module\n",
    "rylr896('AT+MODE?\\r\\n')"
   ]
  },
  {
   "cell_type": "code",
   "execution_count": 10,
   "metadata": {},
   "outputs": [
    {
     "name": "stdout",
     "output_type": "stream",
     "text": [
      "b'+BAND=915000000\\r\\n'\n"
     ]
    }
   ],
   "source": [
    "rylr896('AT+BAND?\\r\\n') # working on 915MHz"
   ]
  },
  {
   "cell_type": "code",
   "execution_count": 11,
   "metadata": {},
   "outputs": [
    {
     "name": "stdout",
     "output_type": "stream",
     "text": [
      "b'+ADDRESS=0\\r\\n'\n"
     ]
    }
   ],
   "source": [
    "rylr896('AT+ADDRESS?\\r\\n')"
   ]
  },
  {
   "cell_type": "code",
   "execution_count": 12,
   "metadata": {},
   "outputs": [
    {
     "name": "stdout",
     "output_type": "stream",
     "text": [
      "b'+NETWORKID=0\\r\\n'\n"
     ]
    }
   ],
   "source": [
    "rylr896('AT+NETWORKID?\\r\\n')"
   ]
  },
  {
   "cell_type": "code",
   "execution_count": 13,
   "metadata": {},
   "outputs": [
    {
     "name": "stdout",
     "output_type": "stream",
     "text": [
      "b'+OK\\r\\n'\n"
     ]
    }
   ],
   "source": [
    "msg = \"Hello World!\"  \n",
    "rylr896(f\"AT+SEND=0,{len(msg)},{msg}\\r\\n\")"
   ]
  },
  {
   "cell_type": "code",
   "execution_count": 18,
   "metadata": {},
   "outputs": [
    {
     "name": "stdout",
     "output_type": "stream",
     "text": [
      "b'+OK\\r\\n'\n"
     ]
    }
   ],
   "source": [
    "rylr896('AT+NETWORKID=3\\r\\n')"
   ]
  },
  {
   "cell_type": "code",
   "execution_count": 19,
   "metadata": {},
   "outputs": [
    {
     "name": "stdout",
     "output_type": "stream",
     "text": [
      "b'+OK\\r\\n'\n"
     ]
    }
   ],
   "source": [
    "msg = \"Hello World!\"  \n",
    "rylr896(f\"AT+SEND=0,{len(msg)},{msg}\\r\\n\")"
   ]
  },
  {
   "cell_type": "code",
   "execution_count": 22,
   "metadata": {},
   "outputs": [
    {
     "name": "stdout",
     "output_type": "stream",
     "text": [
      "b'+OK\\r\\n'\n"
     ]
    }
   ],
   "source": [
    "rylr896('AT+ADDRESS=3333\\r\\n')"
   ]
  },
  {
   "cell_type": "code",
   "execution_count": 23,
   "metadata": {},
   "outputs": [
    {
     "name": "stdout",
     "output_type": "stream",
     "text": [
      "b'+ADDRESS=3333\\r\\n'\n"
     ]
    }
   ],
   "source": [
    "rylr896('AT+ADDRESS?\\r\\n')"
   ]
  },
  {
   "cell_type": "code",
   "execution_count": 24,
   "metadata": {},
   "outputs": [
    {
     "name": "stdout",
     "output_type": "stream",
     "text": [
      "b'+CRFOP=15\\r\\n'\n"
     ]
    }
   ],
   "source": [
    "rylr896('AT+CRFOP?\\r\\n')"
   ]
  }
 ],
 "metadata": {
  "kernelspec": {
   "display_name": "Python 3",
   "language": "python",
   "name": "python3"
  },
  "language_info": {
   "codemirror_mode": {
    "name": "ipython",
    "version": 3
   },
   "file_extension": ".py",
   "mimetype": "text/x-python",
   "name": "python",
   "nbconvert_exporter": "python",
   "pygments_lexer": "ipython3",
   "version": "3.6.5"
  }
 },
 "nbformat": 4,
 "nbformat_minor": 4
}
