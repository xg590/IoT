{
 "cells": [
  {
   "cell_type": "code",
   "execution_count": 1,
   "metadata": {},
   "outputs": [],
   "source": [
    "import serial, time\n",
    "ser = serial.Serial('/dev/ttyUSB1',baudrate=115200, timeout=1)\n",
    "\n",
    "def rylr896(cmd):\n",
    "    ser.write(f'{cmd}\\r\\n'.encode()) \n",
    "    while 1:\n",
    "        r = ser.readline()\n",
    "        if not r: break\n",
    "        print(r) "
   ]
  },
  {
   "cell_type": "code",
   "execution_count": 2,
   "metadata": {},
   "outputs": [
    {
     "name": "stdout",
     "output_type": "stream",
     "text": [
      "b'+MODE=0\\r\\n'\n"
     ]
    }
   ],
   "source": [
    "rylr896('AT+MODE?') # What is the current working mode. MODE=0 is standby and 1 is sleep"
   ]
  },
  {
   "cell_type": "code",
   "execution_count": 3,
   "metadata": {},
   "outputs": [
    {
     "name": "stdout",
     "output_type": "stream",
     "text": [
      "b'+OK\\r\\n'\n",
      "b'\\x00'\n"
     ]
    }
   ],
   "source": [
    "rylr896('AT+MODE=1') # put it into sleep"
   ]
  },
  {
   "cell_type": "code",
   "execution_count": 4,
   "metadata": {},
   "outputs": [
    {
     "name": "stdout",
     "output_type": "stream",
     "text": [
      "b'\\x00+READY\\r\\n'\n"
     ]
    }
   ],
   "source": [
    "rylr896('AT+MODE?') # ready means sleep"
   ]
  },
  {
   "cell_type": "code",
   "execution_count": 5,
   "metadata": {},
   "outputs": [
    {
     "name": "stdout",
     "output_type": "stream",
     "text": [
      "b'+OK\\r\\n'\n",
      "b'+MODE=0\\r\\n'\n"
     ]
    }
   ],
   "source": [
    "rylr896('AT+MODE=0') # wake up the module\n",
    "rylr896('AT+MODE?')"
   ]
  },
  {
   "cell_type": "code",
   "execution_count": 6,
   "metadata": {},
   "outputs": [
    {
     "name": "stdout",
     "output_type": "stream",
     "text": [
      "b'+BAND=915000000\\r\\n'\n"
     ]
    }
   ],
   "source": [
    "rylr896('AT+BAND?') # working on 915MHz"
   ]
  },
  {
   "cell_type": "code",
   "execution_count": 7,
   "metadata": {},
   "outputs": [
    {
     "name": "stdout",
     "output_type": "stream",
     "text": [
      "b'+NETWORKID=0\\r\\n'\n"
     ]
    }
   ],
   "source": [
    "rylr896('AT+NETWORKID?')"
   ]
  },
  {
   "cell_type": "code",
   "execution_count": 8,
   "metadata": {},
   "outputs": [
    {
     "name": "stdout",
     "output_type": "stream",
     "text": [
      "b'+ADDRESS=3333\\r\\n'\n"
     ]
    }
   ],
   "source": [
    "rylr896('AT+ADDRESS?')"
   ]
  },
  {
   "cell_type": "code",
   "execution_count": 9,
   "metadata": {},
   "outputs": [
    {
     "name": "stdout",
     "output_type": "stream",
     "text": [
      "b'+CRFOP=15\\r\\n'\n"
     ]
    }
   ],
   "source": [
    "rylr896('AT+CRFOP?')"
   ]
  }
 ],
 "metadata": {
  "kernelspec": {
   "display_name": "Python 3",
   "language": "python",
   "name": "python3"
  },
  "language_info": {
   "codemirror_mode": {
    "name": "ipython",
    "version": 3
   },
   "file_extension": ".py",
   "mimetype": "text/x-python",
   "name": "python",
   "nbconvert_exporter": "python",
   "pygments_lexer": "ipython3",
   "version": "3.6.5"
  }
 },
 "nbformat": 4,
 "nbformat_minor": 4
}
