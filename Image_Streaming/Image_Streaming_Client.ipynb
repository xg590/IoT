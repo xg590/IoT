{
 "cells": [
  {
   "cell_type": "code",
   "execution_count": null,
   "metadata": {},
   "outputs": [],
   "source": [
    "import io\n",
    "import socket\n",
    "import struct\n",
    "import time\n",
    "import picamera\n",
    "\n",
    "camera = picamera.PiCamera()\n",
    "camera.resolution = (640, 480) \n",
    "camera.rotation = 270\n",
    "camera.start_preview()\n",
    "time.sleep(2) \n",
    "client_socket = socket.socket(socket.AF_INET, socket.SOCK_DGRAM)"
   ]
  },
  {
   "cell_type": "code",
   "execution_count": null,
   "metadata": {
    "scrolled": true
   },
   "outputs": [],
   "source": [
    "stream = io.BytesIO()\n",
    "for _ in camera.capture_continuous(stream, 'jpeg'):\n",
    "    img_len = stream.tell() \n",
    "    client_socket.sendto(struct.pack('<L', img_len), ('192.168.0.94', 8000)) \n",
    "    stream.flush()  \n",
    "    stream.seek(0) \n",
    "    while img_len: \n",
    "        img_len -= 65507 \n",
    "        client_socket.sendto(stream.read(65507), ('192.168.0.94', 8000)) # 65507 is the max length of UDP Packet\n",
    "        if img_len < 0 : break\n",
    "    stream.seek(0)\n",
    "    stream.truncate()\n",
    "    time.sleep(1)"
   ]
  },
  {
   "cell_type": "code",
   "execution_count": null,
   "metadata": {},
   "outputs": [],
   "source": []
  }
 ],
 "metadata": {
  "kernelspec": {
   "display_name": "Python 3",
   "language": "python",
   "name": "python3"
  },
  "language_info": {
   "codemirror_mode": {
    "name": "ipython",
    "version": 3
   },
   "file_extension": ".py",
   "mimetype": "text/x-python",
   "name": "python",
   "nbconvert_exporter": "python",
   "pygments_lexer": "ipython3",
   "version": "3.7.3"
  }
 },
 "nbformat": 4,
 "nbformat_minor": 2
}
