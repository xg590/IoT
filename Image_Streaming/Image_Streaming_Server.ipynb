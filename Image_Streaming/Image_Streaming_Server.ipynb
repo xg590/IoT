{
 "cells": [
  {
   "cell_type": "code",
   "execution_count": null,
   "metadata": {
    "code_folding": []
   },
   "outputs": [
    {
     "name": "stdout",
     "output_type": "stream",
     "text": [
      "Waiting for RPi streaming.\n"
     ]
    },
    {
     "name": "stderr",
     "output_type": "stream",
     "text": [
      "192.168.0.123 - - [08/Sep/2019 08:31:55] \"GET /stream.mjpg HTTP/1.1\" 200 -\n"
     ]
    },
    {
     "name": "stdout",
     "output_type": "stream",
     "text": [
      "Streaming interrupted, restart connection.\n",
      "Waiting for RPi streaming.\n"
     ]
    },
    {
     "name": "stderr",
     "output_type": "stream",
     "text": [
      "WARNING:root:Removed streaming client ('192.168.0.123', 49989): [Errno 32] Broken pipe\n",
      "192.168.0.123 - - [08/Sep/2019 08:33:09] \"GET /stream.mjpg HTTP/1.1\" 200 -\n",
      "WARNING:root:Removed streaming client ('192.168.0.123', 49992): [Errno 32] Broken pipe\n"
     ]
    },
    {
     "name": "stdout",
     "output_type": "stream",
     "text": [
      "Streaming interrupted, restart connection.\n",
      "Waiting for RPi streaming.\n"
     ]
    }
   ],
   "source": [
    "import io\n",
    "import socket\n",
    "import struct  \n",
    "import logging\n",
    "import socketserver\n",
    "import threading \n",
    "from http import server\n",
    "server_socket = socket.socket(socket.AF_INET, socket.SOCK_STREAM)\n",
    "server_socket.bind(('0.0.0.0', 8000))  \n",
    "server_socket.listen(0)  \n",
    "\n",
    "class StreamingOutput(object):\n",
    "    def __init__(self):\n",
    "        self.frame = None\n",
    "        self.buffer = io.BytesIO()\n",
    "        self.condition = threading.Condition()\n",
    "        self.receive_thread = threading.Thread(target=self.receiver)\n",
    "        self.receive_thread.daemon = True\n",
    "        self.receive_thread.start() \n",
    "        \n",
    "    def receiver(self): \n",
    "        while True:\n",
    "            print('Waiting for RPi streaming.')\n",
    "            try: \n",
    "                connection = server_socket.accept()[0].makefile('rb')\n",
    "                while True:\n",
    "                    image_len = struct.unpack('<L', connection.read(struct.calcsize('<L')))[0]\n",
    "                    if not image_len:\n",
    "                        break \n",
    "                    img_IO = io.BytesIO()\n",
    "                    img_IO.write(connection.read(image_len)) \n",
    "                    img_IO.seek(0) \n",
    "                    with self.condition:\n",
    "                        self.frame = img_IO.read()\n",
    "                        self.condition.notify_all()   \n",
    "            finally:\n",
    "                print('Streaming interrupted, restart connection.')\n",
    "                connection.close()\n",
    "\n",
    "class StreamingHandler(server.BaseHTTPRequestHandler):\n",
    "    def do_GET(self):\n",
    "        if self.path == '/':\n",
    "            self.send_response(301)\n",
    "            self.send_header('Location', '/stream.mjpg')\n",
    "            self.end_headers() \n",
    "        elif self.path == '/stream.mjpg':\n",
    "            self.send_response(200)\n",
    "            self.send_header('Age', 0)\n",
    "            self.send_header('Cache-Control', 'no-cache, private')\n",
    "            self.send_header('Pragma', 'no-cache')\n",
    "            self.send_header('Content-Type', 'multipart/x-mixed-replace; boundary=FRAME')\n",
    "            self.end_headers()\n",
    "            try:\n",
    "                while True:\n",
    "                    with output.condition:\n",
    "                        output.condition.wait()\n",
    "                        frame = output.frame\n",
    "                    self.wfile.write(b'--FRAME\\r\\n')\n",
    "                    self.send_header('Content-Type', 'image/jpeg')\n",
    "                    self.send_header('Content-Length', len(frame))\n",
    "                    self.end_headers()\n",
    "                    self.wfile.write(frame)\n",
    "                    self.wfile.write(b'\\r\\n')\n",
    "            except Exception as e:\n",
    "                logging.warning(\n",
    "                    'Removed streaming client %s: %s',\n",
    "                    self.client_address, str(e))\n",
    "        else:\n",
    "            self.send_error(404)\n",
    "            self.end_headers()\n",
    "\n",
    "class StreamingServer(socketserver.ThreadingMixIn, server.HTTPServer):\n",
    "    allow_reuse_address = True\n",
    "    daemon_threads = True\n",
    "\n",
    "def streaming():\n",
    "    output = StreamingOutput()  \n",
    "    server = StreamingServer(('', 8001), StreamingHandler)\n",
    "    server.serve_forever()  \n",
    "\n",
    "t = threading.Thread(target=streaming)\n",
    "t.daemon = True\n",
    "t.start() "
   ]
  },
  {
   "cell_type": "raw",
   "metadata": {
    "scrolled": true
   },
   "source": [
    "from IPython.display import IFrame    \n",
    "IFrame('http://192.168.0.94:8001', width=800, height=650)"
   ]
  }
 ],
 "metadata": {
  "kernelspec": {
   "display_name": "Python 3",
   "language": "python",
   "name": "python3"
  },
  "language_info": {
   "codemirror_mode": {
    "name": "ipython",
    "version": 3
   },
   "file_extension": ".py",
   "mimetype": "text/x-python",
   "name": "python",
   "nbconvert_exporter": "python",
   "pygments_lexer": "ipython3",
   "version": "3.6.8"
  }
 },
 "nbformat": 4,
 "nbformat_minor": 2
}
