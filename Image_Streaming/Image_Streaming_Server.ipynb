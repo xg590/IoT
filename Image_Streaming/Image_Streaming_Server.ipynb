{
 "cells": [
  {
   "cell_type": "code",
   "execution_count": 1,
   "metadata": {
    "code_folding": []
   },
   "outputs": [],
   "source": [
    "import io\n",
    "import socket\n",
    "import struct  \n",
    "import logging\n",
    "import socketserver\n",
    "import threading \n",
    "from http import server\n",
    "\n",
    "server_socket = socket.socket(socket.AF_INET, socket.SOCK_DGRAM)\n",
    "server_socket.bind(('0.0.0.0', 8000))  \n",
    "\n",
    "fmt = '<L' # unsigned_long_int\n",
    "len_fmt = struct.calcsize(fmt) \n",
    "\n",
    "\n",
    "class StreamingOutput(object):\n",
    "    def __init__(self):\n",
    "        self.frame = None\n",
    "        self.buffer = io.BytesIO()\n",
    "        self.condition = threading.Condition()\n",
    "        self.receive_thread = threading.Thread(target=self.receiver)\n",
    "        self.receive_thread.daemon = True\n",
    "        self.receive_thread.start() \n",
    "        \n",
    "    def receiver(self):\n",
    "        while True: \n",
    "            len_img, = struct.unpack(fmt, server_socket.recv(len_fmt)) \n",
    "            img_IO = io.BytesIO()\n",
    "            while len_img: \n",
    "                len_img -= 65507  \n",
    "                img_IO.write(server_socket.recv(65507)) # 65507 is the max length of UDP Packet\n",
    "                if len_img < 0 : break   \n",
    "            img_IO.seek(0)  \n",
    "            with self.condition:\n",
    "                self.frame = img_IO.read()\n",
    "                self.condition.notify_all()  \n",
    "\n",
    "class StreamingHandler(server.BaseHTTPRequestHandler):\n",
    "    def do_GET(self):\n",
    "        if self.path == '/':\n",
    "            self.send_response(301)\n",
    "            self.send_header('Location', '/stream.mjpg')\n",
    "            self.end_headers() \n",
    "        elif self.path == '/stream.mjpg':\n",
    "            self.send_response(200)\n",
    "            self.send_header('Age', 0)\n",
    "            self.send_header('Cache-Control', 'no-cache, private')\n",
    "            self.send_header('Pragma', 'no-cache')\n",
    "            self.send_header('Content-Type', 'multipart/x-mixed-replace; boundary=FRAME')\n",
    "            self.end_headers()\n",
    "            try:\n",
    "                while True:\n",
    "                    with output.condition:\n",
    "                        output.condition.wait()\n",
    "                        frame = output.frame\n",
    "                    self.wfile.write(b'--FRAME\\r\\n')\n",
    "                    self.send_header('Content-Type', 'image/jpeg')\n",
    "                    self.send_header('Content-Length', len(frame))\n",
    "                    self.end_headers()\n",
    "                    self.wfile.write(frame)\n",
    "                    self.wfile.write(b'\\r\\n')\n",
    "            except Exception as e:\n",
    "                logging.warning(\n",
    "                    'Removed streaming client %s: %s',\n",
    "                    self.client_address, str(e))\n",
    "        else:\n",
    "            self.send_error(404)\n",
    "            self.end_headers()\n",
    "\n",
    "class StreamingServer(socketserver.ThreadingMixIn, server.HTTPServer):\n",
    "    allow_reuse_address = True\n",
    "    daemon_threads = True\n",
    "\n",
    "output = StreamingOutput()  \n",
    "\n",
    "def streaming():\n",
    "    server = StreamingServer(('', 8001), StreamingHandler)\n",
    "    server.serve_forever() \n",
    "t = threading.Thread(target=streaming)\n",
    "t.daemon = True\n",
    "t.start() "
   ]
  },
  {
   "cell_type": "markdown",
   "metadata": {},
   "source": [
    "### Run IFrame after client starts sending images"
   ]
  },
  {
   "cell_type": "code",
   "execution_count": 2,
   "metadata": {
    "scrolled": true
   },
   "outputs": [
    {
     "data": {
      "text/html": [
       "\n",
       "        <iframe\n",
       "            width=\"800\"\n",
       "            height=\"650\"\n",
       "            src=\"http://192.168.0.94:8001\"\n",
       "            frameborder=\"0\"\n",
       "            allowfullscreen\n",
       "        ></iframe>\n",
       "        "
      ],
      "text/plain": [
       "<IPython.lib.display.IFrame at 0x7f6a1074d4a8>"
      ]
     },
     "execution_count": 2,
     "metadata": {},
     "output_type": "execute_result"
    },
    {
     "name": "stderr",
     "output_type": "stream",
     "text": [
      "192.168.0.123 - - [26/Aug/2019 05:50:25] \"GET /stream.mjpg HTTP/1.1\" 200 -\n"
     ]
    }
   ],
   "source": [
    "from IPython.display import IFrame    \n",
    "IFrame('http://192.168.0.94:8001', width=800, height=650)"
   ]
  },
  {
   "cell_type": "code",
   "execution_count": null,
   "metadata": {},
   "outputs": [],
   "source": []
  }
 ],
 "metadata": {
  "kernelspec": {
   "display_name": "Python 3",
   "language": "python",
   "name": "python3"
  },
  "language_info": {
   "codemirror_mode": {
    "name": "ipython",
    "version": 3
   },
   "file_extension": ".py",
   "mimetype": "text/x-python",
   "name": "python",
   "nbconvert_exporter": "python",
   "pygments_lexer": "ipython3",
   "version": "3.6.8"
  }
 },
 "nbformat": 4,
 "nbformat_minor": 2
}
