{
 "cells": [
  {
   "cell_type": "code",
   "execution_count": 1,
   "metadata": {},
   "outputs": [],
   "source": [
    "import requests, random\n",
    "from time import gmtime, strftime, sleep\n",
    "\n",
    "def chksum_nmea(sentence): \n",
    "    csum = 0  \n",
    "    for c in sentence: \n",
    "        csum ^= ord(c)\n",
    "    return str(hex(csum)).upper()[2:] \n",
    "\n",
    "def newGPRMC():  \n",
    "    lat, lon = 4045.666, 7357.036\n",
    "    for i in range(36,1000):\n",
    "        lat = lat + 0.01*random.randint(-50,50) \n",
    "        lon = lon + 0.01*random.randint(-50,50) \n",
    "        timestamp = strftime(\"%H%M%S\", gmtime())\n",
    "        chksum = chksum_nmea('GPRMC,{},A,{},N,0{},W,022.4,084.4,210719,003.1,W'.format(timestamp,lat,lon))  \n",
    "        yield '$GPRMC,{},A,{},N,0{},W,022.4,084.4,210719,003.1,W*{}'.format(timestamp,lat,lon,chksum)\n",
    "requests.post('http://guoxiaokang.net:9999/gps', data={'GPRMC':'$GPRMC,225720,A,4045.666,N,07357.036,W,022.4,084.4,110719,003.1,W*77'})\n",
    "\n",
    "def gps_tracker_simulator():\n",
    "    for GPRMC in newGPRMC(): \n",
    "        requests.post('http://guoxiaokang.net:9999/gps', data={'GPRMC':GPRMC})\n",
    "        sleep(5)\n",
    "import threading\n",
    "background = threading.Thread(target=gps_tracker_simulator)\n",
    "background.start()"
   ]
  },
  {
   "cell_type": "code",
   "execution_count": 2,
   "metadata": {},
   "outputs": [
    {
     "data": {
      "text/html": [
       "\n",
       "        <iframe\n",
       "            width=\"900\"\n",
       "            height=\"600\"\n",
       "            src=\"http://guoxiaokang.net:9999/map\"\n",
       "            frameborder=\"0\"\n",
       "            allowfullscreen\n",
       "        ></iframe>\n",
       "        "
      ],
      "text/plain": [
       "<IPython.lib.display.IFrame at 0x7f8864340c50>"
      ]
     },
     "execution_count": 2,
     "metadata": {},
     "output_type": "execute_result"
    }
   ],
   "source": [
    "from IPython.display import IFrame    \n",
    "IFrame('http://guoxiaokang.net:9999/map', width=900, height=600)"
   ]
  }
 ],
 "metadata": {
  "kernelspec": {
   "display_name": "Python 3",
   "language": "python",
   "name": "python3"
  },
  "language_info": {
   "codemirror_mode": {
    "name": "ipython",
    "version": 3
   },
   "file_extension": ".py",
   "mimetype": "text/x-python",
   "name": "python",
   "nbconvert_exporter": "python",
   "pygments_lexer": "ipython3",
   "version": "3.7.3"
  }
 },
 "nbformat": 4,
 "nbformat_minor": 2
}
