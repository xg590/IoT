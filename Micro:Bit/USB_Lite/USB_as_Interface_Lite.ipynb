{
 "cells": [
  {
   "cell_type": "code",
   "execution_count": null,
   "metadata": {},
   "outputs": [],
   "source": [
    "!pip install pyserial # install the serial package"
   ]
  },
  {
   "cell_type": "code",
   "execution_count": 1,
   "metadata": {},
   "outputs": [],
   "source": [
    "import sys, repl, serial\n",
    "class MicroBit(): \n",
    "    def __init__(self):\n",
    "        s = serial.Serial(port     = '/dev/ttyACM0', \n",
    "                          baudrate = 115200, \n",
    "                          parity   = serial.PARITY_NONE, \n",
    "                          stopbits = serial.STOPBITS_ONE, \n",
    "                          timeout  = 0) \n",
    "            \n",
    "        self.repl = repl.REPL(s)\n",
    "        self.repl.to_raw()\n",
    "        \n",
    "    def send_command(self, cmd):\n",
    "        self.repl.send_command(cmd)\n",
    "        r = self.repl.wait_response()\n",
    "        return r.strip() \n",
    "        \n",
    "microbit = MicroBit()"
   ]
  },
  {
   "cell_type": "code",
   "execution_count": 2,
   "metadata": {},
   "outputs": [
    {
     "data": {
      "text/plain": [
       "'(-48, 176, -1044)'"
      ]
     },
     "execution_count": 2,
     "metadata": {},
     "output_type": "execute_result"
    }
   ],
   "source": [
    "microbit.send_command('print(accelerometer.get_values())')"
   ]
  },
  {
   "cell_type": "code",
   "execution_count": 3,
   "metadata": {},
   "outputs": [
    {
     "data": {
      "text/plain": [
       "'29'"
      ]
     },
     "execution_count": 3,
     "metadata": {},
     "output_type": "execute_result"
    }
   ],
   "source": [
    " microbit.send_command(\"print(temperature())\")"
   ]
  },
  {
   "cell_type": "markdown",
   "metadata": {},
   "source": [
    "### When you play with compass, you will be guided throught a calibration process."
   ]
  },
  {
   "cell_type": "code",
   "execution_count": 4,
   "metadata": {},
   "outputs": [
    {
     "data": {
      "text/plain": [
       "'16'"
      ]
     },
     "execution_count": 4,
     "metadata": {},
     "output_type": "execute_result"
    }
   ],
   "source": [
    " microbit.send_command(\"print(compass.heading())\")"
   ]
  }
 ],
 "metadata": {
  "kernelspec": {
   "display_name": "Python 3",
   "language": "python",
   "name": "python3"
  },
  "language_info": {
   "codemirror_mode": {
    "name": "ipython",
    "version": 3
   },
   "file_extension": ".py",
   "mimetype": "text/x-python",
   "name": "python",
   "nbconvert_exporter": "python",
   "pygments_lexer": "ipython3",
   "version": "3.7.3"
  }
 },
 "nbformat": 4,
 "nbformat_minor": 2
}
