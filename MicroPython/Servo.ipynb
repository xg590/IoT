{
 "cells": [
  {
   "cell_type": "code",
   "execution_count": null,
   "id": "bfd4a914",
   "metadata": {},
   "outputs": [],
   "source": [
    "webrepl_host_ip=\"192.168.xxx.xxx\"\n",
    "import sys\n",
    "sys.path.append(\"/ext/new-site-packages/pyWebREPL/\") # https://github.com/xg590/pyWebREPL\n",
    "from pyWebREPL import WEBREPL  "
   ]
  },
  {
   "cell_type": "code",
   "execution_count": null,
   "id": "5dc64cc7",
   "metadata": {},
   "outputs": [],
   "source": [
    "webrepl = WEBREPL(host=webrepl_host_ip, password='123456') \n",
    "webrepl.write_main('''\n",
    "import time\n",
    "from machine import Pin, PWM \n",
    "PIN_Servo = 4 # kitch\n",
    "pwm0 = PWM(Pin(PIN_Servo)) \n",
    "pwm0.freq(50)\n",
    "''')\n",
    "webrepl.soft_reboot()"
   ]
  },
  {
   "cell_type": "code",
   "execution_count": null,
   "id": "da75e829",
   "metadata": {},
   "outputs": [],
   "source": [
    "webrepl = WEBREPL(host=webrepl_host_ip, password='123456')\n",
    "webrepl.send('''\n",
    "pwm0.duty(84) # off\n",
    "time.sleep(0.5)\n",
    "pwm0.duty(94) # off\n",
    "time.sleep(0.5)\n",
    "pwm0.deinit()\n",
    "''')\n",
    "print(webrepl.recv())\n",
    "webrepl.close()"
   ]
  }
 ],
 "metadata": {
  "kernelspec": {
   "display_name": "Python 3 (ipykernel)",
   "language": "python",
   "name": "python3"
  },
  "language_info": {
   "codemirror_mode": {
    "name": "ipython",
    "version": 3
   },
   "file_extension": ".py",
   "mimetype": "text/x-python",
   "name": "python",
   "nbconvert_exporter": "python",
   "pygments_lexer": "ipython3",
   "version": "3.9.2"
  }
 },
 "nbformat": 4,
 "nbformat_minor": 5
}
